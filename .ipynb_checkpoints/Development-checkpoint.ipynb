{
 "cells": [
  {
   "cell_type": "code",
   "execution_count": 1,
   "id": "cfff405c-70ae-4e8b-b58f-c93f0d46abb9",
   "metadata": {},
   "outputs": [],
   "source": [
    "import numpy as np\n",
    "import matplotlib.pyplot as plt\n",
    "from sklearn.decomposition import PCA\n",
    "from sklearn.preprocessing import MinMaxScaler"
   ]
  },
  {
   "cell_type": "code",
   "execution_count": 2,
   "id": "5c5de60f-31b0-49dc-8238-04f95d38fa7d",
   "metadata": {},
   "outputs": [],
   "source": [
    "images = np.load(\"data/images.npy\")"
   ]
  },
  {
   "cell_type": "code",
   "execution_count": 3,
   "id": "5564a33b-9313-481f-863f-4e1cfeae35b2",
   "metadata": {},
   "outputs": [
    {
     "data": {
      "text/plain": [
       "(2000, 28, 28)"
      ]
     },
     "execution_count": 3,
     "metadata": {},
     "output_type": "execute_result"
    }
   ],
   "source": [
    "images.shape"
   ]
  },
  {
   "cell_type": "code",
   "execution_count": 4,
   "id": "4df20cf8-f1c3-477e-be4b-00e024f55394",
   "metadata": {},
   "outputs": [],
   "source": [
    "# Normalise image data between 0 and 1\n",
    "images = images/np.max(images)"
   ]
  },
  {
   "cell_type": "code",
   "execution_count": 5,
   "id": "816f962e-e7a3-4d39-88de-2a8cd3101955",
   "metadata": {},
   "outputs": [
    {
     "data": {
      "text/plain": [
       "<matplotlib.image.AxesImage at 0x7f9c6dbfa610>"
      ]
     },
     "execution_count": 5,
     "metadata": {},
     "output_type": "execute_result"
    },
    {
     "data": {
      "image/png": "[encoded data removed]",
      "text/plain": [
       "<Figure size 432x288 with 1 Axes>"
      ]
     },
     "metadata": {
      "needs_background": "light"
     },
     "output_type": "display_data"
    }
   ],
   "source": [
    "plt.imshow(images[700])"
   ]
  },
  {
   "cell_type": "code",
   "execution_count": 6,
   "id": "d06367b7-58d3-45bf-8bec-6dec8a9ff9d6",
   "metadata": {},
   "outputs": [],
   "source": [
    "# flatten each image to a row vector\n",
    "def flatten_images(images: list) -> list:\n",
    "    flattened_images = []\n",
    "    for image in images:\n",
    "        flattened_images.append(image.flatten())\n",
    "    return np.array(flattened_images)\n",
    "flat_images = flatten_images(images)"
   ]
  },
  {
   "cell_type": "markdown",
   "id": "efde2fa5-4388-4be4-b314-92b97cec2e1f",
   "metadata": {
    "tags": []
   },
   "source": [
    "<h3> Total Variance Captured </h3>"
   ]
  },
  {
   "cell_type": "code",
   "execution_count": 7,
   "id": "d695dbfa-1a3f-4f33-b519-77b59a287c70",
   "metadata": {},
   "outputs": [],
   "source": [
    "total_var_pca = np.zeros(9)\n",
    "for i in range(1, 10):\n",
    "    pca_i = PCA(n_components=i**2)\n",
    "    pca_i.fit(flat_images)\n",
    "    total_var_pca[i-1] = pca_i.explained_variance_ratio_.sum()"
   ]
  },
  {
   "cell_type": "code",
   "execution_count": 8,
   "id": "7e52e438-7e64-44a0-8557-b88078689822",
   "metadata": {},
   "outputs": [
    {
     "data": {
      "image/png": "[encoded data removed]",
      "text/plain": [
       "<Figure size 432x288 with 1 Axes>"
      ]
     },
     "metadata": {
      "needs_background": "light"
     },
     "output_type": "display_data"
    }
   ],
   "source": [
    "plt.ylabel(\"variance captured\")\n",
    "plt.xlabel(\"i square component\")\n",
    "plt.plot(np.arange(1, 10), total_var_pca)\n",
    "plt.show()"
   ]
  },
  {
   "cell_type": "code",
   "execution_count": 9,
   "id": "b1c2d8c7-917e-49e9-84a4-c815b24e808c",
   "metadata": {},
   "outputs": [],
   "source": [
    "# use PCA to achieve image reduction\n",
    "pca = PCA(n_components=16, whiten=True)  # using 16 components, so we have 4x4 for each image\n",
    "reduced_images = pca.fit_transform(flat_images)"
   ]
  },
  {
   "cell_type": "code",
   "execution_count": 10,
   "id": "ba88fe43-32cc-4782-bb9f-9e77503bd28c",
   "metadata": {},
   "outputs": [
    {
     "data": {
      "text/plain": [
       "<matplotlib.image.AxesImage at 0x7f9c6da856a0>"
      ]
     },
     "execution_count": 10,
     "metadata": {},
     "output_type": "execute_result"
    },
    {
     "data": {
      "image/png": "[encoded data removed]",
      "text/plain": [
       "<Figure size 432x288 with 1 Axes>"
      ]
     },
     "metadata": {
      "needs_background": "light"
     },
     "output_type": "display_data"
    }
   ],
   "source": [
    "plt.imshow(reduced_images[10].reshape(4,4))"
   ]
  },
  {
   "cell_type": "code",
   "execution_count": 11,
   "id": "c4c24a1e-d728-4660-bd7f-fcbb0553570e",
   "metadata": {},
   "outputs": [
    {
     "data": {
      "text/plain": [
       "array([-0.30856706, -0.66432543,  1.15536046, -0.22407947, -0.83931168,\n",
       "        1.02555239, -0.82357163,  2.20860849,  2.73044529, -0.23177402,\n",
       "       -1.05236288,  0.94162333, -3.35099074,  1.51249572,  1.26133009,\n",
       "        0.6397174 ])"
      ]
     },
     "execution_count": 11,
     "metadata": {},
     "output_type": "execute_result"
    }
   ],
   "source": [
    "reduced_images[10]"
   ]
  },
  {
   "cell_type": "code",
   "execution_count": 12,
   "id": "456c5776-b75e-4806-be0a-3924f6eed17e",
   "metadata": {},
   "outputs": [
    {
     "data": {
      "text/plain": [
       "(2000, 16)"
      ]
     },
     "execution_count": 12,
     "metadata": {},
     "output_type": "execute_result"
    }
   ],
   "source": [
    "reduced_images.shape"
   ]
  },
  {
   "cell_type": "code",
   "execution_count": 13,
   "id": "2fed1ceb-5bcb-43af-8669-9f018333ecc1",
   "metadata": {},
   "outputs": [
    {
     "data": {
      "text/plain": [
       "<matplotlib.image.AxesImage at 0x7f9c6da96a90>"
      ]
     },
     "execution_count": 13,
     "metadata": {},
     "output_type": "execute_result"
    },
    {
     "data": {
      "image/png": "[encoded data removed]",
      "text/plain": [
       "<Figure size 432x288 with 1 Axes>"
      ]
     },
     "metadata": {
      "needs_background": "light"
     },
     "output_type": "display_data"
    }
   ],
   "source": [
    "# map back from lower space to original space\n",
    "plt.imshow(pca.inverse_transform(reduced_images).reshape(2000, 28, 28)[10])"
   ]
  },
  {
   "cell_type": "code",
   "execution_count": 14,
   "id": "c5d2b0f8-1ad0-43be-bffa-40fd3de5f776",
   "metadata": {},
   "outputs": [
    {
     "data": {
      "text/plain": [
       "<matplotlib.image.AxesImage at 0x7f9c6da145e0>"
      ]
     },
     "execution_count": 14,
     "metadata": {},
     "output_type": "execute_result"
    },
    {
     "data": {
      "image/png": "[encoded data removed]",
      "text/plain": [
       "<Figure size 432x288 with 1 Axes>"
      ]
     },
     "metadata": {
      "needs_background": "light"
     },
     "output_type": "display_data"
    }
   ],
   "source": [
    "plt.imshow(images[10])"
   ]
  },
  {
   "cell_type": "code",
   "execution_count": 15,
   "id": "c2fb8efe-6a7f-4282-8b69-616512afa315",
   "metadata": {},
   "outputs": [],
   "source": [
    "from qiskit import QuantumCircuit"
   ]
  },
  {
   "cell_type": "code",
   "execution_count": 16,
   "id": "315b22a7-7396-401b-b0e0-a02c7e821c7e",
   "metadata": {},
   "outputs": [],
   "source": [
    "# debugging\n",
    "def __encoding(images):\n",
    "    encoded_images = []\n",
    "    scaler = MinMaxScaler()\n",
    "    scaled_images = scaler.fit_transform(images)\n",
    "    \n",
    "    for image in scaled_images:\n",
    "        qc = QuantumCircuit(16,16)\n",
    "        # Normalise data in image (might have to save normalisation to inverse later)\n",
    "        \n",
    "        for i in range(len(image)):\n",
    "            qc.ry(np.pi*float(image[i]), i)\n",
    "        \n",
    "        qc.measure(np.arange(0,16,1),np.arange(0,16,1))\n",
    "        encoded_images.append(qc)\n",
    "    return encoded_images, scaler"
   ]
  },
  {
   "cell_type": "code",
   "execution_count": 17,
   "id": "f003f48b-8922-404f-be15-2974157f3837",
   "metadata": {},
   "outputs": [],
   "source": [
    "def _encoding(images):\n",
    "    encoded_images = []\n",
    "    scalers = []\n",
    "    scaled_images = []\n",
    "    for image in images:\n",
    "        qc = QuantumCircuit(16,16)\n",
    "        # Normalise data in image (might have to save normalisation to inverse later)\n",
    "        \n",
    "        scaler = MinMaxScaler()\n",
    "        normalised = scaler.fit_transform(image.reshape(-1, 1))\n",
    "        scalers.append(scaler)\n",
    "        scaled_images.append(normalised.flatten())\n",
    "        for i in range(len(normalised)):\n",
    "            qc.ry(np.pi*float(normalised[i]), i)\n",
    "        \n",
    "        qc.measure(np.arange(0,16,1),np.arange(0,16,1))\n",
    "        encoded_images.append(qc)\n",
    "    return encoded_images, scalers, scaled_images"
   ]
  },
  {
   "cell_type": "code",
   "execution_count": 18,
   "id": "bbc0471e-a145-4a38-a2b6-f9033558ff7a",
   "metadata": {},
   "outputs": [],
   "source": [
    "encoded_images, scalers, scaled_images = _encoding(reduced_images)"
   ]
  },
  {
   "cell_type": "code",
   "execution_count": 19,
   "id": "eb2e4339-9188-4e15-bb48-d90da26b6f97",
   "metadata": {},
   "outputs": [
    {
     "data": {
      "text/html": [
       "<pre style=\"word-wrap: normal;white-space: pre;background: #fff0;line-height: 1.1;font-family: &quot;Courier New&quot;,Courier,monospace\">      ┌────────────┐┌─┐                                             \n",
       " q_0: ┤ Ry(1.5717) ├┤M├─────────────────────────────────────────────\n",
       "      ├────────────┤└╥┘┌─┐                                          \n",
       " q_1: ┤ Ry(1.3879) ├─╫─┤M├──────────────────────────────────────────\n",
       "      ├────────────┤ ║ └╥┘┌─┐                                       \n",
       " q_2: ┤ Ry(2.3279) ├─╫──╫─┤M├───────────────────────────────────────\n",
       "      ├────────────┤ ║  ║ └╥┘┌─┐                                    \n",
       " q_3: ┤ Ry(1.6153) ├─╫──╫──╫─┤M├────────────────────────────────────\n",
       "      ├────────────┤ ║  ║  ║ └╥┘┌─┐                                 \n",
       " q_4: ┤ Ry(1.2975) ├─╫──╫──╫──╫─┤M├─────────────────────────────────\n",
       "      ├────────────┤ ║  ║  ║  ║ └╥┘┌─┐                              \n",
       " q_5: ┤ Ry(2.2609) ├─╫──╫──╫──╫──╫─┤M├──────────────────────────────\n",
       "      ├────────────┤ ║  ║  ║  ║  ║ └╥┘┌─┐                           \n",
       " q_6: ┤ Ry(1.3056) ├─╫──╫──╫──╫──╫──╫─┤M├───────────────────────────\n",
       "      ├───────────┬┘ ║  ║  ║  ║  ║  ║ └╥┘┌─┐                        \n",
       " q_7: ┤ Ry(2.872) ├──╫──╫──╫──╫──╫──╫──╫─┤M├────────────────────────\n",
       "      └─┬───────┬─┘  ║  ║  ║  ║  ║  ║  ║ └╥┘┌─┐                     \n",
       " q_8: ──┤ Ry(π) ├────╫──╫──╫──╫──╫──╫──╫──╫─┤M├─────────────────────\n",
       "      ┌─┴───────┴──┐ ║  ║  ║  ║  ║  ║  ║  ║ └╥┘┌─┐                  \n",
       " q_9: ┤ Ry(1.6113) ├─╫──╫──╫──╫──╫──╫──╫──╫──╫─┤M├──────────────────\n",
       "      ├────────────┤ ║  ║  ║  ║  ║  ║  ║  ║  ║ └╥┘┌─┐               \n",
       "q_10: ┤ Ry(1.1874) ├─╫──╫──╫──╫──╫──╫──╫──╫──╫──╫─┤M├───────────────\n",
       "      ├────────────┤ ║  ║  ║  ║  ║  ║  ║  ║  ║  ║ └╥┘┌─┐            \n",
       "q_11: ┤ Ry(2.2175) ├─╫──╫──╫──╫──╫──╫──╫──╫──╫──╫──╫─┤M├────────────\n",
       "      └─┬───────┬──┘ ║  ║  ║  ║  ║  ║  ║  ║  ║  ║  ║ └╥┘┌─┐         \n",
       "q_12: ──┤ Ry(0) ├────╫──╫──╫──╫──╫──╫──╫──╫──╫──╫──╫──╫─┤M├─────────\n",
       "      ┌─┴───────┴──┐ ║  ║  ║  ║  ║  ║  ║  ║  ║  ║  ║  ║ └╥┘┌─┐      \n",
       "q_13: ┤ Ry(2.5124) ├─╫──╫──╫──╫──╫──╫──╫──╫──╫──╫──╫──╫──╫─┤M├──────\n",
       "      ├────────────┤ ║  ║  ║  ║  ║  ║  ║  ║  ║  ║  ║  ║  ║ └╥┘┌─┐   \n",
       "q_14: ┤ Ry(2.3827) ├─╫──╫──╫──╫──╫──╫──╫──╫──╫──╫──╫──╫──╫──╫─┤M├───\n",
       "      ├────────────┤ ║  ║  ║  ║  ║  ║  ║  ║  ║  ║  ║  ║  ║  ║ └╥┘┌─┐\n",
       "q_15: ┤ Ry(2.0615) ├─╫──╫──╫──╫──╫──╫──╫──╫──╫──╫──╫──╫──╫──╫──╫─┤M├\n",
       "      └────────────┘ ║  ║  ║  ║  ║  ║  ║  ║  ║  ║  ║  ║  ║  ║  ║ └╥┘\n",
       "c: 16/═══════════════╩══╩══╩══╩══╩══╩══╩══╩══╩══╩══╩══╩══╩══╩══╩══╩═\n",
       "                     0  1  2  3  4  5  6  7  8  9  10 11 12 13 14 15</pre>"
      ],
      "text/plain": [
       "      ┌────────────┐┌─┐                                             \n",
       " q_0: ┤ Ry(1.5717) ├┤M├─────────────────────────────────────────────\n",
       "      ├────────────┤└╥┘┌─┐                                          \n",
       " q_1: ┤ Ry(1.3879) ├─╫─┤M├──────────────────────────────────────────\n",
       "      ├────────────┤ ║ └╥┘┌─┐                                       \n",
       " q_2: ┤ Ry(2.3279) ├─╫──╫─┤M├───────────────────────────────────────\n",
       "      ├────────────┤ ║  ║ └╥┘┌─┐                                    \n",
       " q_3: ┤ Ry(1.6153) ├─╫──╫──╫─┤M├────────────────────────────────────\n",
       "      ├────────────┤ ║  ║  ║ └╥┘┌─┐                                 \n",
       " q_4: ┤ Ry(1.2975) ├─╫──╫──╫──╫─┤M├─────────────────────────────────\n",
       "      ├────────────┤ ║  ║  ║  ║ └╥┘┌─┐                              \n",
       " q_5: ┤ Ry(2.2609) ├─╫──╫──╫──╫──╫─┤M├──────────────────────────────\n",
       "      ├────────────┤ ║  ║  ║  ║  ║ └╥┘┌─┐                           \n",
       " q_6: ┤ Ry(1.3056) ├─╫──╫──╫──╫──╫──╫─┤M├───────────────────────────\n",
       "      ├───────────┬┘ ║  ║  ║  ║  ║  ║ └╥┘┌─┐                        \n",
       " q_7: ┤ Ry(2.872) ├──╫──╫──╫──╫──╫──╫──╫─┤M├────────────────────────\n",
       "      └─┬───────┬─┘  ║  ║  ║  ║  ║  ║  ║ └╥┘┌─┐                     \n",
       " q_8: ──┤ Ry(π) ├────╫──╫──╫──╫──╫──╫──╫──╫─┤M├─────────────────────\n",
       "      ┌─┴───────┴──┐ ║  ║  ║  ║  ║  ║  ║  ║ └╥┘┌─┐                  \n",
       " q_9: ┤ Ry(1.6113) ├─╫──╫──╫──╫──╫──╫──╫──╫──╫─┤M├──────────────────\n",
       "      ├────────────┤ ║  ║  ║  ║  ║  ║  ║  ║  ║ └╥┘┌─┐               \n",
       "q_10: ┤ Ry(1.1874) ├─╫──╫──╫──╫──╫──╫──╫──╫──╫──╫─┤M├───────────────\n",
       "      ├────────────┤ ║  ║  ║  ║  ║  ║  ║  ║  ║  ║ └╥┘┌─┐            \n",
       "q_11: ┤ Ry(2.2175) ├─╫──╫──╫──╫──╫──╫──╫──╫──╫──╫──╫─┤M├────────────\n",
       "      └─┬───────┬──┘ ║  ║  ║  ║  ║  ║  ║  ║  ║  ║  ║ └╥┘┌─┐         \n",
       "q_12: ──┤ Ry(0) ├────╫──╫──╫──╫──╫──╫──╫──╫──╫──╫──╫──╫─┤M├─────────\n",
       "      ┌─┴───────┴──┐ ║  ║  ║  ║  ║  ║  ║  ║  ║  ║  ║  ║ └╥┘┌─┐      \n",
       "q_13: ┤ Ry(2.5124) ├─╫──╫──╫──╫──╫──╫──╫──╫──╫──╫──╫──╫──╫─┤M├──────\n",
       "      ├────────────┤ ║  ║  ║  ║  ║  ║  ║  ║  ║  ║  ║  ║  ║ └╥┘┌─┐   \n",
       "q_14: ┤ Ry(2.3827) ├─╫──╫──╫──╫──╫──╫──╫──╫──╫──╫──╫──╫──╫──╫─┤M├───\n",
       "      ├────────────┤ ║  ║  ║  ║  ║  ║  ║  ║  ║  ║  ║  ║  ║  ║ └╥┘┌─┐\n",
       "q_15: ┤ Ry(2.0615) ├─╫──╫──╫──╫──╫──╫──╫──╫──╫──╫──╫──╫──╫──╫──╫─┤M├\n",
       "      └────────────┘ ║  ║  ║  ║  ║  ║  ║  ║  ║  ║  ║  ║  ║  ║  ║ └╥┘\n",
       "c: 16/═══════════════╩══╩══╩══╩══╩══╩══╩══╩══╩══╩══╩══╩══╩══╩══╩══╩═\n",
       "                     0  1  2  3  4  5  6  7  8  9  10 11 12 13 14 15"
      ]
     },
     "execution_count": 19,
     "metadata": {},
     "output_type": "execute_result"
    }
   ],
   "source": [
    "encoded_images[10].draw()"
   ]
  },
  {
   "cell_type": "markdown",
   "id": "614dbace-e973-4585-aa55-f8ca6d972239",
   "metadata": {},
   "source": [
    "<h3> simulating and plotting histogram </h3>"
   ]
  },
  {
   "cell_type": "code",
   "execution_count": 20,
   "id": "a5b46c81-eb7c-4fda-99de-f503a4226ed0",
   "metadata": {},
   "outputs": [],
   "source": [
    "from qiskit.visualization import plot_histogram\n",
    "from qiskit import Aer, transpile"
   ]
  },
  {
   "cell_type": "code",
   "execution_count": 21,
   "id": "cb78cc93-73f6-482f-adb0-26ccbf661349",
   "metadata": {},
   "outputs": [
    {
     "data": {
      "text/plain": [
       "2000"
      ]
     },
     "execution_count": 21,
     "metadata": {},
     "output_type": "execute_result"
    }
   ],
   "source": [
    "len(encoded_images)"
   ]
  },
  {
   "cell_type": "code",
   "execution_count": 22,
   "id": "ccb9b3b8-baf8-4393-be4f-d709b8c68585",
   "metadata": {},
   "outputs": [],
   "source": [
    "#tmp_img.measure_all()\n",
    "simulator = Aer.get_backend('aer_simulator')\n",
    "#tmp_img = transpile(tmp_img, simulator)\n",
    "\n",
    "shot_num = 10000\n",
    "\n",
    "#index each qubit in the binary number\n",
    "num = 16\n",
    "decoded = []\n",
    "for i in range(len(encoded_images)):\n",
    "    amplist = np.zeros(16)\n",
    "    tmp_img = encoded_images[i]\n",
    "    result = simulator.run(tmp_img, shots=shot_num).result()\n",
    "    counts = result.get_counts(tmp_img)\n",
    "    keys = list(counts.keys())\n",
    "    for k in range(len(keys) - 1):\n",
    "            binlist = [int(d) for d in str(keys[k])]\n",
    "            amplist = amplist + [x * counts[keys[k]]/shot_num for x in binlist]\n",
    "    \n",
    "    decoded.append(amplist)\n",
    "#plot_histogram(counts, title='Bell-State counts')"
   ]
  },
  {
   "cell_type": "code",
   "execution_count": 23,
   "id": "4e225b37-a71a-469e-9331-4409ce7398a5",
   "metadata": {},
   "outputs": [
    {
     "data": {
      "text/plain": [
       "array([0.7331, 0.8616, 0.9003, 0.    , 0.8023, 0.3142, 0.5172, 0.9999,\n",
       "       0.983 , 0.3664, 0.8214, 0.3598, 0.5213, 0.8472, 0.4034, 0.5032])"
      ]
     },
     "execution_count": 23,
     "metadata": {},
     "output_type": "execute_result"
    }
   ],
   "source": [
    "decoded[10]"
   ]
  },
  {
   "cell_type": "code",
   "execution_count": 24,
   "id": "13ef136f-5173-44ad-897d-71c5b07e6d18",
   "metadata": {},
   "outputs": [
    {
     "data": {
      "text/plain": [
       "<matplotlib.image.AxesImage at 0x7f9c54a2e220>"
      ]
     },
     "execution_count": 24,
     "metadata": {},
     "output_type": "execute_result"
    },
    {
     "data": {
      "image/png": "[encoded data removed]",
      "text/plain": [
       "<Figure size 432x288 with 1 Axes>"
      ]
     },
     "metadata": {
      "needs_background": "light"
     },
     "output_type": "display_data"
    }
   ],
   "source": [
    "plt.imshow(reduced_images[700].reshape(4,4))"
   ]
  },
  {
   "cell_type": "code",
   "execution_count": 25,
   "id": "7fbcb60a-ed38-4b91-b175-7a5b9dc02984",
   "metadata": {},
   "outputs": [
    {
     "data": {
      "text/plain": [
       "<matplotlib.image.AxesImage at 0x7f9c549d5cd0>"
      ]
     },
     "execution_count": 25,
     "metadata": {},
     "output_type": "execute_result"
    },
    {
     "data": {
      "image/png": "[encoded data removed]",
      "text/plain": [
       "<Figure size 432x288 with 1 Axes>"
      ]
     },
     "metadata": {
      "needs_background": "light"
     },
     "output_type": "display_data"
    }
   ],
   "source": [
    "plt.imshow(decoded[700].reshape(4,4))"
   ]
  },
  {
   "cell_type": "code",
   "execution_count": 26,
   "id": "17ac94e5-34fd-4523-8fa0-e6ca1c9c6f21",
   "metadata": {},
   "outputs": [
    {
     "data": {
      "text/plain": [
       "<matplotlib.image.AxesImage at 0x7f9c54958490>"
      ]
     },
     "execution_count": 26,
     "metadata": {},
     "output_type": "execute_result"
    },
    {
     "data": {
      "image/png": "[encoded data removed]",
      "text/plain": [
       "<Figure size 432x288 with 1 Axes>"
      ]
     },
     "metadata": {
      "needs_background": "light"
     },
     "output_type": "display_data"
    }
   ],
   "source": [
    "plt.imshow(np.rot90(amplist.reshape(4,4),2))"
   ]
  },
  {
   "cell_type": "code",
   "execution_count": null,
   "id": "6c22f498-747c-4f89-90ec-6e127e630864",
   "metadata": {},
   "outputs": [],
   "source": [
    "# recover for scaling\n",
    "decoded_images = [scalers[i].inverse_transform(decoded[i].reshape(-1, 1)).flatten() for i in range(len(decoded))]"
   ]
  },
  {
   "cell_type": "code",
   "execution_count": null,
   "id": "95e3c6a3-36ba-4b84-aa31-d554b213c743",
   "metadata": {},
   "outputs": [],
   "source": [
    "np.array(decoded_images).shape"
   ]
  },
  {
   "cell_type": "code",
   "execution_count": null,
   "id": "c3306467-e042-4f5b-8c10-e1f96f0e8f0b",
   "metadata": {},
   "outputs": [],
   "source": [
    "# debugging\n",
    "decoded_images = scalers.inverse_transform(decoded)"
   ]
  },
  {
   "cell_type": "code",
   "execution_count": 27,
   "id": "f91dc676-25fb-4119-9240-ddef50167be9",
   "metadata": {},
   "outputs": [
    {
     "data": {
      "text/plain": [
       "<matplotlib.image.AxesImage at 0x7f9c548c4dc0>"
      ]
     },
     "execution_count": 27,
     "metadata": {},
     "output_type": "execute_result"
    },
    {
     "data": {
      "image/png": "[encoded data removed]",
      "text/plain": [
       "<Figure size 432x288 with 1 Axes>"
      ]
     },
     "metadata": {
      "needs_background": "light"
     },
     "output_type": "display_data"
    }
   ],
   "source": [
    "plt.imshow(pca.inverse_transform(decoded).reshape(2000, 28, 28)[100])"
   ]
  },
  {
   "cell_type": "code",
   "execution_count": 28,
   "id": "e52a013f-fdd5-413e-ab5c-235f3bf35b6c",
   "metadata": {},
   "outputs": [
    {
     "data": {
      "text/plain": [
       "<matplotlib.image.AxesImage at 0x7f9c548463a0>"
      ]
     },
     "execution_count": 28,
     "metadata": {},
     "output_type": "execute_result"
    },
    {
     "data": {
      "image/png": "[encoded data removed]",
      "text/plain": [
       "<Figure size 432x288 with 1 Axes>"
      ]
     },
     "metadata": {
      "needs_background": "light"
     },
     "output_type": "display_data"
    }
   ],
   "source": [
    "plt.imshow(images[100])"
   ]
  },
  {
   "cell_type": "code",
   "execution_count": null,
   "id": "7af8b1dc-ad59-483b-a3a0-d03c10d16a2b",
   "metadata": {},
   "outputs": [],
   "source": [
    "decoded[0]"
   ]
  },
  {
   "cell_type": "code",
   "execution_count": null,
   "id": "6885d927-a829-4a43-ae88-1c179cb4a054",
   "metadata": {},
   "outputs": [],
   "source": [
    "decoded_images[0]"
   ]
  },
  {
   "cell_type": "code",
   "execution_count": null,
   "id": "c6b43b6b-acbb-49e2-b0db-b035f71f9313",
   "metadata": {},
   "outputs": [],
   "source": [
    "keys = list(counts.keys())\n",
    "range(len(keys))\n",
    "[int(d) for d in str(int(keys[4]))]\n",
    "amplist = np.zeros(16-1)\n",
    "[int(d) for d in str(keys[4])]"
   ]
  },
  {
   "cell_type": "markdown",
   "id": "fb6729bf-5ce2-4da2-9e58-9dcea43c8a42",
   "metadata": {},
   "source": [
    "<h3> Decoding </h3>"
   ]
  },
  {
   "cell_type": "code",
   "execution_count": null,
   "id": "beaf5fe3-f638-4fe0-ba06-0cfa7aaddcdf",
   "metadata": {},
   "outputs": [],
   "source": []
  }
 ],
 "metadata": {
  "kernelspec": {
   "display_name": "Python 3 [IonQ]",
   "language": "python",
   "name": "python3_ionq_6vdluz"
  },
  "language_info": {
   "codemirror_mode": {
    "name": "ipython",
    "version": 3
   },
   "file_extension": ".py",
   "mimetype": "text/x-python",
   "name": "python",
   "nbconvert_exporter": "python",
   "pygments_lexer": "ipython3",
   "version": "3.9.10"
  }
 },
 "nbformat": 4,
 "nbformat_minor": 5
}
