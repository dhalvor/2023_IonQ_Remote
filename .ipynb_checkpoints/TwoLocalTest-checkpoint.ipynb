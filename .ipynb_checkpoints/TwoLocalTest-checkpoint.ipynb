{
 "cells": [
  {
   "cell_type": "code",
   "execution_count": 2,
   "id": "124f6e91-c4de-4d09-abf1-d091ba32455a",
   "metadata": {},
   "outputs": [
    {
     "name": "stdout",
     "output_type": "stream",
     "text": [
      "Collecting scikit-learn\n",
      "  Downloading scikit_learn-1.2.1-cp39-cp39-manylinux_2_17_x86_64.manylinux2014_x86_64.whl (9.6 MB)\n",
      "\u001b[2K     \u001b[90m━━━━━━━━━━━━━━━━━━━━━━━━━━━━━━━━━━━━━━━━\u001b[0m \u001b[32m9.6/9.6 MB\u001b[0m \u001b[31m42.5 MB/s\u001b[0m eta \u001b[36m0:00:00\u001b[0m:00:01\u001b[0m0:01\u001b[0m\n",
      "\u001b[?25hCollecting joblib>=1.1.1\n",
      "  Downloading joblib-1.2.0-py3-none-any.whl (297 kB)\n",
      "\u001b[2K     \u001b[90m━━━━━━━━━━━━━━━━━━━━━━━━━━━━━━━━━━━━━━━\u001b[0m \u001b[32m298.0/298.0 kB\u001b[0m \u001b[31m4.9 MB/s\u001b[0m eta \u001b[36m0:00:00\u001b[0m00:01\u001b[0m\n",
      "\u001b[?25hRequirement already satisfied: scipy>=1.3.2 in /home/jovyan/.qbraid/environments/ionq_6vdluz/pyenv/lib/python3.9/site-packages (from scikit-learn) (1.10.0)\n",
      "Collecting threadpoolctl>=2.0.0\n",
      "  Downloading threadpoolctl-3.1.0-py3-none-any.whl (14 kB)\n",
      "Requirement already satisfied: numpy>=1.17.3 in /home/jovyan/.qbraid/environments/ionq_6vdluz/pyenv/lib/python3.9/site-packages (from scikit-learn) (1.24.1)\n",
      "Installing collected packages: threadpoolctl, joblib, scikit-learn\n",
      "Successfully installed joblib-1.2.0 scikit-learn-1.2.1 threadpoolctl-3.1.0\n",
      "Note: you may need to restart the kernel to use updated packages.\n"
     ]
    }
   ],
   "source": [
    "%pip install scikit-learn"
   ]
  },
  {
   "cell_type": "code",
   "execution_count": 67,
   "id": "cfff405c-70ae-4e8b-b58f-c93f0d46abb9",
   "metadata": {},
   "outputs": [],
   "source": [
    "import numpy as np\n",
    "import matplotlib.pyplot as plt\n",
    "from sklearn.decomposition import PCA\n",
    "from sklearn.preprocessing import MinMaxScaler"
   ]
  },
  {
   "cell_type": "code",
   "execution_count": 68,
   "id": "5c5de60f-31b0-49dc-8238-04f95d38fa7d",
   "metadata": {},
   "outputs": [],
   "source": [
    "images = np.load(\"data/images.npy\")"
   ]
  },
  {
   "cell_type": "code",
   "execution_count": 69,
   "id": "5564a33b-9313-481f-863f-4e1cfeae35b2",
   "metadata": {},
   "outputs": [
    {
     "data": {
      "text/plain": [
       "(2000, 28, 28)"
      ]
     },
     "execution_count": 69,
     "metadata": {},
     "output_type": "execute_result"
    }
   ],
   "source": [
    "images.shape"
   ]
  },
  {
   "cell_type": "code",
   "execution_count": 70,
   "id": "4df20cf8-f1c3-477e-be4b-00e024f55394",
   "metadata": {},
   "outputs": [],
   "source": [
    "# Normalise image data between 0 and 1\n",
    "images = images/np.max(images)"
   ]
  },
  {
   "cell_type": "code",
   "execution_count": 71,
   "id": "816f962e-e7a3-4d39-88de-2a8cd3101955",
   "metadata": {},
   "outputs": [
    {
     "data": {
      "text/plain": [
       "<matplotlib.image.AxesImage at 0x7f73edb64b50>"
      ]
     },
     "execution_count": 71,
     "metadata": {},
     "output_type": "execute_result"
    },
    {
     "data": {
      "image/png": "[encoded data removed]",
      "text/plain": [
       "<Figure size 432x288 with 1 Axes>"
      ]
     },
     "metadata": {
      "needs_background": "light"
     },
     "output_type": "display_data"
    }
   ],
   "source": [
    "plt.imshow(images[700])"
   ]
  },
  {
   "cell_type": "code",
   "execution_count": 72,
   "id": "d06367b7-58d3-45bf-8bec-6dec8a9ff9d6",
   "metadata": {},
   "outputs": [],
   "source": [
    "# flatten each image to a row vector\n",
    "def flatten_images(images: list) -> list:\n",
    "    flattened_images = []\n",
    "    for image in images:\n",
    "        flattened_images.append(image.flatten())\n",
    "    return np.array(flattened_images)\n",
    "flat_images = flatten_images(images)"
   ]
  },
  {
   "cell_type": "markdown",
   "id": "efde2fa5-4388-4be4-b314-92b97cec2e1f",
   "metadata": {
    "tags": []
   },
   "source": [
    "<h3> Total Variance Captured </h3>"
   ]
  },
  {
   "cell_type": "code",
   "execution_count": 73,
   "id": "d695dbfa-1a3f-4f33-b519-77b59a287c70",
   "metadata": {},
   "outputs": [],
   "source": [
    "total_var_pca = np.zeros(9)\n",
    "for i in range(1, 10):\n",
    "    pca_i = PCA(n_components=i**2)\n",
    "    pca_i.fit(flat_images)\n",
    "    total_var_pca[i-1] = pca_i.explained_variance_ratio_.sum()"
   ]
  },
  {
   "cell_type": "code",
   "execution_count": 74,
   "id": "7e52e438-7e64-44a0-8557-b88078689822",
   "metadata": {},
   "outputs": [
    {
     "data": {
      "image/png": "[encoded data removed]",
      "text/plain": [
       "<Figure size 432x288 with 1 Axes>"
      ]
     },
     "metadata": {
      "needs_background": "light"
     },
     "output_type": "display_data"
    }
   ],
   "source": [
    "plt.ylabel(\"variance captured\")\n",
    "plt.xlabel(\"i square component\")\n",
    "plt.plot(np.arange(1, 10), total_var_pca)\n",
    "plt.show()"
   ]
  },
  {
   "cell_type": "code",
   "execution_count": 75,
   "id": "b1c2d8c7-917e-49e9-84a4-c815b24e808c",
   "metadata": {},
   "outputs": [],
   "source": [
    "# use PCA to achieve image reduction\n",
    "pca = PCA(n_components=16, whiten=True)  # using 16 components, so we have 4x4 for each image\n",
    "reduced_images = pca.fit_transform(flat_images)"
   ]
  },
  {
   "cell_type": "code",
   "execution_count": 76,
   "id": "ba88fe43-32cc-4782-bb9f-9e77503bd28c",
   "metadata": {},
   "outputs": [
    {
     "data": {
      "text/plain": [
       "<matplotlib.image.AxesImage at 0x7f741a85ea90>"
      ]
     },
     "execution_count": 76,
     "metadata": {},
     "output_type": "execute_result"
    },
    {
     "data": {
      "image/png": "[encoded data removed]",
      "text/plain": [
       "<Figure size 432x288 with 1 Axes>"
      ]
     },
     "metadata": {
      "needs_background": "light"
     },
     "output_type": "display_data"
    }
   ],
   "source": [
    "plt.imshow(reduced_images[10].reshape(4,4))"
   ]
  },
  {
   "cell_type": "code",
   "execution_count": 77,
   "id": "c4c24a1e-d728-4660-bd7f-fcbb0553570e",
   "metadata": {},
   "outputs": [
    {
     "data": {
      "text/plain": [
       "array([-0.30856706, -0.66432543,  1.15536046, -0.22407947, -0.83931178,\n",
       "        1.02555547, -0.82358135,  2.20865526,  2.73051041, -0.23171762,\n",
       "       -1.05242663,  0.94075424, -3.35070363,  1.51388382,  1.2554207 ,\n",
       "        0.63691032])"
      ]
     },
     "execution_count": 77,
     "metadata": {},
     "output_type": "execute_result"
    }
   ],
   "source": [
    "reduced_images[10]"
   ]
  },
  {
   "cell_type": "code",
   "execution_count": 78,
   "id": "456c5776-b75e-4806-be0a-3924f6eed17e",
   "metadata": {},
   "outputs": [
    {
     "data": {
      "text/plain": [
       "(2000, 16)"
      ]
     },
     "execution_count": 78,
     "metadata": {},
     "output_type": "execute_result"
    }
   ],
   "source": [
    "reduced_images.shape"
   ]
  },
  {
   "cell_type": "code",
   "execution_count": 79,
   "id": "2fed1ceb-5bcb-43af-8669-9f018333ecc1",
   "metadata": {},
   "outputs": [
    {
     "data": {
      "text/plain": [
       "<matplotlib.image.AxesImage at 0x7f73edbe27f0>"
      ]
     },
     "execution_count": 79,
     "metadata": {},
     "output_type": "execute_result"
    },
    {
     "data": {
      "image/png": "[encoded data removed]",
      "text/plain": [
       "<Figure size 432x288 with 1 Axes>"
      ]
     },
     "metadata": {
      "needs_background": "light"
     },
     "output_type": "display_data"
    }
   ],
   "source": [
    "# map back from lower space to original space\n",
    "plt.imshow(pca.inverse_transform(reduced_images).reshape(2000, 28, 28)[100])"
   ]
  },
  {
   "cell_type": "code",
   "execution_count": 80,
   "id": "c5d2b0f8-1ad0-43be-bffa-40fd3de5f776",
   "metadata": {},
   "outputs": [
    {
     "data": {
      "text/plain": [
       "<matplotlib.image.AxesImage at 0x7f741a83eee0>"
      ]
     },
     "execution_count": 80,
     "metadata": {},
     "output_type": "execute_result"
    },
    {
     "data": {
      "image/png": "[encoded data removed]",
      "text/plain": [
       "<Figure size 432x288 with 1 Axes>"
      ]
     },
     "metadata": {
      "needs_background": "light"
     },
     "output_type": "display_data"
    }
   ],
   "source": [
    "plt.imshow(images[100])"
   ]
  },
  {
   "cell_type": "code",
   "execution_count": 81,
   "id": "c2fb8efe-6a7f-4282-8b69-616512afa315",
   "metadata": {},
   "outputs": [],
   "source": [
    "from qiskit.circuit import QuantumCircuit, ParameterVector\n",
    "from qiskit.circuit.library import TwoLocal"
   ]
  },
  {
   "cell_type": "code",
   "execution_count": 82,
   "id": "38f9a7fa-1791-4d5e-bc8b-ceacb30c69a4",
   "metadata": {},
   "outputs": [],
   "source": [
    "TRAIN_DATA = reduced_images\n",
    "TRAIN_LABELS = [int(x) for x in np.load('data/labels.npy')]"
   ]
  },
  {
   "cell_type": "code",
   "execution_count": 83,
   "id": "f8aacd07-21d4-4797-8a26-7259581df6c7",
   "metadata": {},
   "outputs": [],
   "source": [
    "TRAIN_DATA = []\n",
    "for image in reduced_images:\n",
    "    scaler = MinMaxScaler()\n",
    "    scaler.fit(image.reshape(-1,1))\n",
    "    normalised = scaler.transform(image.reshape(-1,1))\n",
    "    normstate = [float(x) for x in normalised]\n",
    "    TRAIN_DATA.append([np.pi*n for n in normstate])"
   ]
  },
  {
   "cell_type": "code",
   "execution_count": 84,
   "id": "65cd6bb4-f4cb-475a-8bb0-3478e251a571",
   "metadata": {},
   "outputs": [
    {
     "ename": "CircuitError",
     "evalue": "'Name conflict on adding parameter: th[0]'",
     "output_type": "error",
     "traceback": [
      "\u001b[0;31m---------------------------------------------------------------------------\u001b[0m",
      "\u001b[0;31mCircuitError\u001b[0m                              Traceback (most recent call last)",
      "Cell \u001b[0;32mIn[84], line 10\u001b[0m\n\u001b[1;32m      7\u001b[0m \u001b[38;5;66;03m#for i in range(len(normalised)):\u001b[39;00m\n\u001b[1;32m      8\u001b[0m    \u001b[38;5;66;03m# theta_list[i] = np.pi*float(normalised[i])\u001b[39;00m\n\u001b[1;32m      9\u001b[0m \u001b[38;5;28;01mfor\u001b[39;00m i \u001b[38;5;129;01min\u001b[39;00m \u001b[38;5;28mrange\u001b[39m(\u001b[38;5;28mlen\u001b[39m(theta_list)):\n\u001b[0;32m---> 10\u001b[0m     \u001b[43mqc\u001b[49m\u001b[38;5;241;43m.\u001b[39;49m\u001b[43mry\u001b[49m\u001b[43m(\u001b[49m\u001b[43mtheta_list\u001b[49m\u001b[43m[\u001b[49m\u001b[43mi\u001b[49m\u001b[43m]\u001b[49m\u001b[43m,\u001b[49m\u001b[43m \u001b[49m\u001b[43mi\u001b[49m\u001b[43m)\u001b[49m\n\u001b[1;32m     12\u001b[0m \u001b[38;5;66;03m#Set up PQC \u001b[39;00m\n\u001b[1;32m     13\u001b[0m PQC \u001b[38;5;241m=\u001b[39m TwoLocal(qubit_num, [\u001b[38;5;124m'\u001b[39m\u001b[38;5;124mrx\u001b[39m\u001b[38;5;124m'\u001b[39m, \u001b[38;5;124m'\u001b[39m\u001b[38;5;124mrz\u001b[39m\u001b[38;5;124m'\u001b[39m], \u001b[38;5;124m'\u001b[39m\u001b[38;5;124mcz\u001b[39m\u001b[38;5;124m'\u001b[39m, reps\u001b[38;5;241m=\u001b[39m\u001b[38;5;241m2\u001b[39m)\n",
      "File \u001b[0;32m/opt/.qbraid/environments/qbraid_000000/pyenv/lib/python3.9/site-packages/qiskit/circuit/quantumcircuit.py:3286\u001b[0m, in \u001b[0;36mQuantumCircuit.ry\u001b[0;34m(self, theta, qubit, label)\u001b[0m\n\u001b[1;32m   3272\u001b[0m \u001b[38;5;250m\u001b[39m\u001b[38;5;124;03m\"\"\"Apply :class:`~qiskit.circuit.library.RYGate`.\u001b[39;00m\n\u001b[1;32m   3273\u001b[0m \n\u001b[1;32m   3274\u001b[0m \u001b[38;5;124;03mFor the full matrix form of this gate, see the underlying gate documentation.\u001b[39;00m\n\u001b[0;32m   (...)\u001b[0m\n\u001b[1;32m   3282\u001b[0m \u001b[38;5;124;03m    A handle to the instructions created.\u001b[39;00m\n\u001b[1;32m   3283\u001b[0m \u001b[38;5;124;03m\"\"\"\u001b[39;00m\n\u001b[1;32m   3284\u001b[0m \u001b[38;5;28;01mfrom\u001b[39;00m \u001b[38;5;21;01m.\u001b[39;00m\u001b[38;5;21;01mlibrary\u001b[39;00m\u001b[38;5;21;01m.\u001b[39;00m\u001b[38;5;21;01mstandard_gates\u001b[39;00m\u001b[38;5;21;01m.\u001b[39;00m\u001b[38;5;21;01mry\u001b[39;00m \u001b[38;5;28;01mimport\u001b[39;00m RYGate\n\u001b[0;32m-> 3286\u001b[0m \u001b[38;5;28;01mreturn\u001b[39;00m \u001b[38;5;28;43mself\u001b[39;49m\u001b[38;5;241;43m.\u001b[39;49m\u001b[43mappend\u001b[49m\u001b[43m(\u001b[49m\u001b[43mRYGate\u001b[49m\u001b[43m(\u001b[49m\u001b[43mtheta\u001b[49m\u001b[43m,\u001b[49m\u001b[43m \u001b[49m\u001b[43mlabel\u001b[49m\u001b[38;5;241;43m=\u001b[39;49m\u001b[43mlabel\u001b[49m\u001b[43m)\u001b[49m\u001b[43m,\u001b[49m\u001b[43m \u001b[49m\u001b[43m[\u001b[49m\u001b[43mqubit\u001b[49m\u001b[43m]\u001b[49m\u001b[43m,\u001b[49m\u001b[43m \u001b[49m\u001b[43m[\u001b[49m\u001b[43m]\u001b[49m\u001b[43m)\u001b[49m\n",
      "File \u001b[0;32m/opt/.qbraid/environments/qbraid_000000/pyenv/lib/python3.9/site-packages/qiskit/circuit/quantumcircuit.py:1312\u001b[0m, in \u001b[0;36mQuantumCircuit.append\u001b[0;34m(self, instruction, qargs, cargs)\u001b[0m\n\u001b[1;32m   1310\u001b[0m         \u001b[38;5;28mself\u001b[39m\u001b[38;5;241m.\u001b[39m_check_dups(qarg)\n\u001b[1;32m   1311\u001b[0m         instruction \u001b[38;5;241m=\u001b[39m CircuitInstruction(operation, qarg, carg)\n\u001b[0;32m-> 1312\u001b[0m         \u001b[43mappender\u001b[49m\u001b[43m(\u001b[49m\u001b[43minstruction\u001b[49m\u001b[43m)\u001b[49m\n\u001b[1;32m   1313\u001b[0m         instructions\u001b[38;5;241m.\u001b[39madd(instruction)\n\u001b[1;32m   1314\u001b[0m \u001b[38;5;28;01melse\u001b[39;00m:\n\u001b[1;32m   1315\u001b[0m     \u001b[38;5;66;03m# For Operations that are non-Instructions, we use the Instruction's default method\u001b[39;00m\n",
      "File \u001b[0;32m/opt/.qbraid/environments/qbraid_000000/pyenv/lib/python3.9/site-packages/qiskit/circuit/quantumcircuit.py:1377\u001b[0m, in \u001b[0;36mQuantumCircuit._append\u001b[0;34m(self, instruction, qargs, cargs)\u001b[0m\n\u001b[1;32m   1375\u001b[0m \u001b[38;5;28mself\u001b[39m\u001b[38;5;241m.\u001b[39m_data\u001b[38;5;241m.\u001b[39mappend(instruction)\n\u001b[1;32m   1376\u001b[0m \u001b[38;5;28;01mif\u001b[39;00m \u001b[38;5;28misinstance\u001b[39m(instruction\u001b[38;5;241m.\u001b[39moperation, Instruction):\n\u001b[0;32m-> 1377\u001b[0m     \u001b[38;5;28;43mself\u001b[39;49m\u001b[38;5;241;43m.\u001b[39;49m\u001b[43m_update_parameter_table\u001b[49m\u001b[43m(\u001b[49m\u001b[43minstruction\u001b[49m\u001b[43m)\u001b[49m\n\u001b[1;32m   1379\u001b[0m \u001b[38;5;66;03m# mark as normal circuit if a new instruction is added\u001b[39;00m\n\u001b[1;32m   1380\u001b[0m \u001b[38;5;28mself\u001b[39m\u001b[38;5;241m.\u001b[39mduration \u001b[38;5;241m=\u001b[39m \u001b[38;5;28;01mNone\u001b[39;00m\n",
      "File \u001b[0;32m/opt/.qbraid/environments/qbraid_000000/pyenv/lib/python3.9/site-packages/qiskit/circuit/quantumcircuit.py:1397\u001b[0m, in \u001b[0;36mQuantumCircuit._update_parameter_table\u001b[0;34m(self, instruction)\u001b[0m\n\u001b[1;32m   1395\u001b[0m \u001b[38;5;28;01melse\u001b[39;00m:\n\u001b[1;32m   1396\u001b[0m     \u001b[38;5;28;01mif\u001b[39;00m parameter\u001b[38;5;241m.\u001b[39mname \u001b[38;5;129;01min\u001b[39;00m \u001b[38;5;28mself\u001b[39m\u001b[38;5;241m.\u001b[39m_parameter_table\u001b[38;5;241m.\u001b[39mget_names():\n\u001b[0;32m-> 1397\u001b[0m         \u001b[38;5;28;01mraise\u001b[39;00m CircuitError(\u001b[38;5;124mf\u001b[39m\u001b[38;5;124m\"\u001b[39m\u001b[38;5;124mName conflict on adding parameter: \u001b[39m\u001b[38;5;132;01m{\u001b[39;00mparameter\u001b[38;5;241m.\u001b[39mname\u001b[38;5;132;01m}\u001b[39;00m\u001b[38;5;124m\"\u001b[39m)\n\u001b[1;32m   1398\u001b[0m     \u001b[38;5;28mself\u001b[39m\u001b[38;5;241m.\u001b[39m_parameter_table[parameter] \u001b[38;5;241m=\u001b[39m ParameterReferences(\n\u001b[1;32m   1399\u001b[0m         ((instruction\u001b[38;5;241m.\u001b[39moperation, param_index),)\n\u001b[1;32m   1400\u001b[0m     )\n\u001b[1;32m   1402\u001b[0m     \u001b[38;5;66;03m# clear cache if new parameter is added\u001b[39;00m\n",
      "\u001b[0;31mCircuitError\u001b[0m: 'Name conflict on adding parameter: th[0]'"
     ]
    }
   ],
   "source": [
    "from qiskit.circuit.library import TwoLocal\n",
    "# Parametrize input data\n",
    "qubit_num = 16\n",
    "theta_list = ParameterVector('th', length=qubit_num)\n",
    "\n",
    "FEATURE_MAP = QuantumCircuit(qubit_num)\n",
    "#for i in range(len(normalised)):\n",
    "   # theta_list[i] = np.pi*float(normalised[i])\n",
    "for i in range(len(theta_list)):\n",
    "    qc.ry(theta_list[i], i)\n",
    "\n",
    "#Set up PQC \n",
    "PQC = TwoLocal(qubit_num, ['rx', 'rz'], 'cz', reps=2)\n",
    "\n",
    "NEW_CIRCUIT = qc.compose(PQC)\n",
    "NEW_CIRCUIT.measure_all()\n",
    "NEW_CIRCUIT.decompose().draw()"
   ]
  },
  {
   "cell_type": "code",
   "execution_count": 50,
   "id": "ba8ac83e-bece-4ed8-9ac9-d60b4757e62a",
   "metadata": {},
   "outputs": [],
   "source": [
    "def circuit_instance(data, variational):\n",
    "    \"\"\"Assigns parameter values to `AD_HOC_CIRCUIT`.\n",
    "    Args:\n",
    "        data (list): Data values for the feature map\n",
    "        variational (list): Parameter values for `VAR_FORM`\n",
    "    Returns:\n",
    "        QuantumCircuit: `AD_HOC_CIRCUIT` with parameters assigned\n",
    "    \"\"\"\n",
    "    parameters = {}\n",
    "    for i, p in enumerate(FEATURE_MAP.ordered_parameters):\n",
    "        parameters[p] = data[i]\n",
    "    for i, p in enumerate(VAR_FORM.ordered_parameters):\n",
    "        parameters[p] = variational[i]\n",
    "    return NEW_CIRCUIT.assign_parameters(parameters)"
   ]
  },
  {
   "cell_type": "code",
   "execution_count": 51,
   "id": "33b87285-b3dd-45c1-b97f-c6d54b90b1a6",
   "metadata": {},
   "outputs": [],
   "source": [
    "def parity(bitstring):\n",
    "    \"\"\"Returns 1 if parity of `bitstring` is even, otherwise 0.\"\"\"\n",
    "    hamming_weight = sum(int(k) for k in list(bitstring))\n",
    "    return (hamming_weight+1) % 2"
   ]
  },
  {
   "cell_type": "code",
   "execution_count": 52,
   "id": "07afdf08-a58d-4760-a0a2-34873ac2ca6a",
   "metadata": {},
   "outputs": [],
   "source": [
    "def label_probability(results):\n",
    "    \"\"\"Converts a dict of bitstrings and their counts,\n",
    "    to parities and their counts\"\"\"\n",
    "    shots = sum(results.values())\n",
    "    probabilities = {0: 0, 1: 0}\n",
    "    for bitstring, counts in results.items():\n",
    "        label = parity(bitstring)\n",
    "        probabilities[label] += counts / shots\n",
    "    return probabilities"
   ]
  },
  {
   "cell_type": "code",
   "execution_count": 53,
   "id": "dd7a4808-1ecf-4c2b-b406-d2cf81c40cc1",
   "metadata": {},
   "outputs": [],
   "source": [
    "from qiskit import BasicAer, execute\n",
    "\n",
    "def classification_probability(data, variational):\n",
    "    \"\"\"Classify data points using given parameters.\n",
    "    Args:\n",
    "        data (list): Set of data points to classify\n",
    "        variational (list): Parameters for `VAR_FORM`\n",
    "    Returns:\n",
    "        list[dict]: Probability of circuit classifying\n",
    "                    each data point as 0 or 1.\n",
    "    \"\"\"\n",
    "    circuits = [circuit_instance(d, variational) for d in data]\n",
    "    backend = BasicAer.get_backend('qasm_simulator')\n",
    "    results = execute(circuits, backend).result()\n",
    "    classification = [\n",
    "        label_probability(results.get_counts(c)) for c in circuits]\n",
    "    return classification"
   ]
  },
  {
   "cell_type": "code",
   "execution_count": 54,
   "id": "7252c9c1-a1bc-4fba-8869-0a7fccb1878e",
   "metadata": {},
   "outputs": [],
   "source": [
    "def cross_entropy_loss(classification, expected):\n",
    "    \"\"\"Calculate accuracy of predictions using cross entropy loss.\n",
    "    Args:\n",
    "        classification (dict): Dict where keys are possible classes,\n",
    "                               and values are the probability our\n",
    "                               circuit chooses that class.\n",
    "        expected (int): Correct classification of the data point.\n",
    "\n",
    "    Returns:\n",
    "        float: Cross entropy loss\n",
    "    \"\"\"\n",
    "    p = classification.get(expected)  # Prob. of correct classification\n",
    "    return -np.log(p + 1e-10)\n",
    "\n",
    "def cost_function(data, labels, variational):\n",
    "    \"\"\"Evaluates performance of our circuit with `variational`\n",
    "    parameters on `data`.\n",
    "\n",
    "    Args:\n",
    "        data (list): List of data points to classify\n",
    "        labels (list): List of correct labels for each data point\n",
    "        variational (list): Parameters to use in circuit\n",
    "\n",
    "    Returns:\n",
    "        float: Cost (metric of performance)\n",
    "    \"\"\"\n",
    "    classifications = classification_probability(data, variational)\n",
    "    cost = 0\n",
    "    for i, classification in enumerate(classifications):\n",
    "        cost += cross_entropy_loss(classification, labels[i])\n",
    "    cost /= len(data)\n",
    "    return cost"
   ]
  },
  {
   "cell_type": "code",
   "execution_count": 55,
   "id": "bcec8a9a-f17e-49ca-a575-295c4390cf53",
   "metadata": {},
   "outputs": [
    {
     "name": "stdout",
     "output_type": "stream",
     "text": [
      "3\n",
      "6\n",
      "9\n",
      "12\n",
      "15\n"
     ]
    },
    {
     "ename": "KeyboardInterrupt",
     "evalue": "",
     "output_type": "error",
     "traceback": [
      "\u001b[0;31m---------------------------------------------------------------------------\u001b[0m",
      "\u001b[0;31mKeyboardInterrupt\u001b[0m                         Traceback (most recent call last)",
      "Cell \u001b[0;32mIn[55], line 32\u001b[0m\n\u001b[1;32m     29\u001b[0m     \u001b[38;5;28;01mreturn\u001b[39;00m cost_function(TRAIN_DATA, TRAIN_LABELS, variational)\n\u001b[1;32m     31\u001b[0m \u001b[38;5;66;03m# Run the optimization\u001b[39;00m\n\u001b[0;32m---> 32\u001b[0m result \u001b[38;5;241m=\u001b[39m \u001b[43moptimizer\u001b[49m\u001b[38;5;241;43m.\u001b[39;49m\u001b[43mminimize\u001b[49m\u001b[43m(\u001b[49m\u001b[43mobjective_function\u001b[49m\u001b[43m,\u001b[49m\u001b[43m \u001b[49m\u001b[43minitial_point\u001b[49m\u001b[43m)\u001b[49m\n\u001b[1;32m     34\u001b[0m opt_var \u001b[38;5;241m=\u001b[39m result\u001b[38;5;241m.\u001b[39mx\n\u001b[1;32m     35\u001b[0m opt_value \u001b[38;5;241m=\u001b[39m result\u001b[38;5;241m.\u001b[39mfun\n",
      "File \u001b[0;32m/opt/.qbraid/environments/qbraid_000000/pyenv/lib/python3.9/site-packages/qiskit/algorithms/optimizers/spsa.py:601\u001b[0m, in \u001b[0;36mSPSA.minimize\u001b[0;34m(self, fun, x0, jac, bounds)\u001b[0m\n\u001b[1;32m    599\u001b[0m     \u001b[38;5;28;01mif\u001b[39;00m \u001b[38;5;129;01mnot\u001b[39;00m \u001b[38;5;28mself\u001b[39m\u001b[38;5;241m.\u001b[39mblocking:\n\u001b[1;32m    600\u001b[0m         \u001b[38;5;28mself\u001b[39m\u001b[38;5;241m.\u001b[39m_nfev \u001b[38;5;241m+\u001b[39m\u001b[38;5;241m=\u001b[39m \u001b[38;5;241m1\u001b[39m\n\u001b[0;32m--> 601\u001b[0m         fx_next \u001b[38;5;241m=\u001b[39m \u001b[43mfun\u001b[49m\u001b[43m(\u001b[49m\u001b[43mx_next\u001b[49m\u001b[43m)\u001b[49m\n\u001b[1;32m    603\u001b[0m     \u001b[38;5;28mself\u001b[39m\u001b[38;5;241m.\u001b[39mcallback(\n\u001b[1;32m    604\u001b[0m         \u001b[38;5;28mself\u001b[39m\u001b[38;5;241m.\u001b[39m_nfev,  \u001b[38;5;66;03m# number of function evals\u001b[39;00m\n\u001b[1;32m    605\u001b[0m         x_next,  \u001b[38;5;66;03m# next parameters\u001b[39;00m\n\u001b[0;32m   (...)\u001b[0m\n\u001b[1;32m    608\u001b[0m         \u001b[38;5;28;01mTrue\u001b[39;00m,\n\u001b[1;32m    609\u001b[0m     )  \u001b[38;5;66;03m# accepted\u001b[39;00m\n\u001b[1;32m    611\u001b[0m \u001b[38;5;66;03m# update parameters\u001b[39;00m\n",
      "Cell \u001b[0;32mIn[55], line 29\u001b[0m, in \u001b[0;36mobjective_function\u001b[0;34m(variational)\u001b[0m\n\u001b[1;32m     26\u001b[0m \u001b[38;5;28;01mdef\u001b[39;00m \u001b[38;5;21mobjective_function\u001b[39m(variational):\n\u001b[1;32m     27\u001b[0m \u001b[38;5;250m    \u001b[39m\u001b[38;5;124;03m\"\"\"Cost function of circuit parameters on training data.\u001b[39;00m\n\u001b[1;32m     28\u001b[0m \u001b[38;5;124;03m    The optimizer will attempt to minimize this.\"\"\"\u001b[39;00m\n\u001b[0;32m---> 29\u001b[0m     \u001b[38;5;28;01mreturn\u001b[39;00m \u001b[43mcost_function\u001b[49m\u001b[43m(\u001b[49m\u001b[43mTRAIN_DATA\u001b[49m\u001b[43m,\u001b[49m\u001b[43m \u001b[49m\u001b[43mTRAIN_LABELS\u001b[49m\u001b[43m,\u001b[49m\u001b[43m \u001b[49m\u001b[43mvariational\u001b[49m\u001b[43m)\u001b[49m\n",
      "Cell \u001b[0;32mIn[54], line 27\u001b[0m, in \u001b[0;36mcost_function\u001b[0;34m(data, labels, variational)\u001b[0m\n\u001b[1;32m     15\u001b[0m \u001b[38;5;28;01mdef\u001b[39;00m \u001b[38;5;21mcost_function\u001b[39m(data, labels, variational):\n\u001b[1;32m     16\u001b[0m \u001b[38;5;250m    \u001b[39m\u001b[38;5;124;03m\"\"\"Evaluates performance of our circuit with `variational`\u001b[39;00m\n\u001b[1;32m     17\u001b[0m \u001b[38;5;124;03m    parameters on `data`.\u001b[39;00m\n\u001b[1;32m     18\u001b[0m \n\u001b[0;32m   (...)\u001b[0m\n\u001b[1;32m     25\u001b[0m \u001b[38;5;124;03m        float: Cost (metric of performance)\u001b[39;00m\n\u001b[1;32m     26\u001b[0m \u001b[38;5;124;03m    \"\"\"\u001b[39;00m\n\u001b[0;32m---> 27\u001b[0m     classifications \u001b[38;5;241m=\u001b[39m \u001b[43mclassification_probability\u001b[49m\u001b[43m(\u001b[49m\u001b[43mdata\u001b[49m\u001b[43m,\u001b[49m\u001b[43m \u001b[49m\u001b[43mvariational\u001b[49m\u001b[43m)\u001b[49m\n\u001b[1;32m     28\u001b[0m     cost \u001b[38;5;241m=\u001b[39m \u001b[38;5;241m0\u001b[39m\n\u001b[1;32m     29\u001b[0m     \u001b[38;5;28;01mfor\u001b[39;00m i, classification \u001b[38;5;129;01min\u001b[39;00m \u001b[38;5;28menumerate\u001b[39m(classifications):\n",
      "Cell \u001b[0;32mIn[53], line 14\u001b[0m, in \u001b[0;36mclassification_probability\u001b[0;34m(data, variational)\u001b[0m\n\u001b[1;32m     12\u001b[0m circuits \u001b[38;5;241m=\u001b[39m [circuit_instance(d, variational) \u001b[38;5;28;01mfor\u001b[39;00m d \u001b[38;5;129;01min\u001b[39;00m data]\n\u001b[1;32m     13\u001b[0m backend \u001b[38;5;241m=\u001b[39m BasicAer\u001b[38;5;241m.\u001b[39mget_backend(\u001b[38;5;124m'\u001b[39m\u001b[38;5;124mqasm_simulator\u001b[39m\u001b[38;5;124m'\u001b[39m)\n\u001b[0;32m---> 14\u001b[0m results \u001b[38;5;241m=\u001b[39m \u001b[43mexecute\u001b[49m\u001b[43m(\u001b[49m\u001b[43mcircuits\u001b[49m\u001b[43m,\u001b[49m\u001b[43m \u001b[49m\u001b[43mbackend\u001b[49m\u001b[43m)\u001b[49m\u001b[38;5;241m.\u001b[39mresult()\n\u001b[1;32m     15\u001b[0m classification \u001b[38;5;241m=\u001b[39m [\n\u001b[1;32m     16\u001b[0m     label_probability(results\u001b[38;5;241m.\u001b[39mget_counts(c)) \u001b[38;5;28;01mfor\u001b[39;00m c \u001b[38;5;129;01min\u001b[39;00m circuits]\n\u001b[1;32m     17\u001b[0m \u001b[38;5;28;01mreturn\u001b[39;00m classification\n",
      "File \u001b[0;32m/opt/.qbraid/environments/qbraid_000000/pyenv/lib/python3.9/site-packages/qiskit/execute_function.py:375\u001b[0m, in \u001b[0;36mexecute\u001b[0;34m(experiments, backend, basis_gates, coupling_map, backend_properties, initial_layout, seed_transpiler, optimization_level, pass_manager, qobj_id, qobj_header, shots, memory, max_credits, seed_simulator, default_qubit_los, default_meas_los, qubit_lo_range, meas_lo_range, schedule_los, meas_level, meas_return, memory_slots, memory_slot_size, rep_time, rep_delay, parameter_binds, schedule_circuit, inst_map, meas_map, scheduling_method, init_qubits, **run_config)\u001b[0m\n\u001b[1;32m    373\u001b[0m     run_kwargs[\u001b[38;5;124m\"\u001b[39m\u001b[38;5;124mparameter_binds\u001b[39m\u001b[38;5;124m\"\u001b[39m] \u001b[38;5;241m=\u001b[39m parameter_binds\n\u001b[1;32m    374\u001b[0m run_kwargs\u001b[38;5;241m.\u001b[39mupdate(run_config)\n\u001b[0;32m--> 375\u001b[0m job \u001b[38;5;241m=\u001b[39m \u001b[43mbackend\u001b[49m\u001b[38;5;241;43m.\u001b[39;49m\u001b[43mrun\u001b[49m\u001b[43m(\u001b[49m\u001b[43mexperiments\u001b[49m\u001b[43m,\u001b[49m\u001b[43m \u001b[49m\u001b[38;5;241;43m*\u001b[39;49m\u001b[38;5;241;43m*\u001b[39;49m\u001b[43mrun_kwargs\u001b[49m\u001b[43m)\u001b[49m\n\u001b[1;32m    376\u001b[0m end_time \u001b[38;5;241m=\u001b[39m time()\n\u001b[1;32m    377\u001b[0m _log_submission_time(start_time, end_time)\n",
      "File \u001b[0;32m/opt/.qbraid/environments/qbraid_000000/pyenv/lib/python3.9/site-packages/qiskit/providers/basicaer/qasm_simulator.py:423\u001b[0m, in \u001b[0;36mQasmSimulatorPy.run\u001b[0;34m(self, qobj, **backend_options)\u001b[0m\n\u001b[1;32m    421\u001b[0m \u001b[38;5;28mself\u001b[39m\u001b[38;5;241m.\u001b[39m_set_options(qobj_config\u001b[38;5;241m=\u001b[39mqobj_options, backend_options\u001b[38;5;241m=\u001b[39mbackend_options)\n\u001b[1;32m    422\u001b[0m job_id \u001b[38;5;241m=\u001b[39m \u001b[38;5;28mstr\u001b[39m(uuid\u001b[38;5;241m.\u001b[39muuid4())\n\u001b[0;32m--> 423\u001b[0m job \u001b[38;5;241m=\u001b[39m BasicAerJob(\u001b[38;5;28mself\u001b[39m, job_id, \u001b[38;5;28;43mself\u001b[39;49m\u001b[38;5;241;43m.\u001b[39;49m\u001b[43m_run_job\u001b[49m\u001b[43m(\u001b[49m\u001b[43mjob_id\u001b[49m\u001b[43m,\u001b[49m\u001b[43m \u001b[49m\u001b[43mqobj\u001b[49m\u001b[43m)\u001b[49m)\n\u001b[1;32m    424\u001b[0m \u001b[38;5;28;01mreturn\u001b[39;00m job\n",
      "File \u001b[0;32m/opt/.qbraid/environments/qbraid_000000/pyenv/lib/python3.9/site-packages/qiskit/providers/basicaer/qasm_simulator.py:443\u001b[0m, in \u001b[0;36mQasmSimulatorPy._run_job\u001b[0;34m(self, job_id, qobj)\u001b[0m\n\u001b[1;32m    441\u001b[0m start \u001b[38;5;241m=\u001b[39m time\u001b[38;5;241m.\u001b[39mtime()\n\u001b[1;32m    442\u001b[0m \u001b[38;5;28;01mfor\u001b[39;00m experiment \u001b[38;5;129;01min\u001b[39;00m qobj\u001b[38;5;241m.\u001b[39mexperiments:\n\u001b[0;32m--> 443\u001b[0m     result_list\u001b[38;5;241m.\u001b[39mappend(\u001b[38;5;28;43mself\u001b[39;49m\u001b[38;5;241;43m.\u001b[39;49m\u001b[43mrun_experiment\u001b[49m\u001b[43m(\u001b[49m\u001b[43mexperiment\u001b[49m\u001b[43m)\u001b[49m)\n\u001b[1;32m    444\u001b[0m end \u001b[38;5;241m=\u001b[39m time\u001b[38;5;241m.\u001b[39mtime()\n\u001b[1;32m    445\u001b[0m result \u001b[38;5;241m=\u001b[39m {\n\u001b[1;32m    446\u001b[0m     \u001b[38;5;124m\"\u001b[39m\u001b[38;5;124mbackend_name\u001b[39m\u001b[38;5;124m\"\u001b[39m: \u001b[38;5;28mself\u001b[39m\u001b[38;5;241m.\u001b[39mname(),\n\u001b[1;32m    447\u001b[0m     \u001b[38;5;124m\"\u001b[39m\u001b[38;5;124mbackend_version\u001b[39m\u001b[38;5;124m\"\u001b[39m: \u001b[38;5;28mself\u001b[39m\u001b[38;5;241m.\u001b[39m_configuration\u001b[38;5;241m.\u001b[39mbackend_version,\n\u001b[0;32m   (...)\u001b[0m\n\u001b[1;32m    454\u001b[0m     \u001b[38;5;124m\"\u001b[39m\u001b[38;5;124mheader\u001b[39m\u001b[38;5;124m\"\u001b[39m: qobj\u001b[38;5;241m.\u001b[39mheader\u001b[38;5;241m.\u001b[39mto_dict(),\n\u001b[1;32m    455\u001b[0m }\n",
      "File \u001b[0;32m/opt/.qbraid/environments/qbraid_000000/pyenv/lib/python3.9/site-packages/qiskit/providers/basicaer/qasm_simulator.py:559\u001b[0m, in \u001b[0;36mQasmSimulatorPy.run_experiment\u001b[0;34m(self, experiment)\u001b[0m\n\u001b[1;32m    557\u001b[0m     qubit1 \u001b[38;5;241m=\u001b[39m operation\u001b[38;5;241m.\u001b[39mqubits[\u001b[38;5;241m1\u001b[39m]\n\u001b[1;32m    558\u001b[0m     gate \u001b[38;5;241m=\u001b[39m cx_gate_matrix()\n\u001b[0;32m--> 559\u001b[0m     \u001b[38;5;28;43mself\u001b[39;49m\u001b[38;5;241;43m.\u001b[39;49m\u001b[43m_add_unitary\u001b[49m\u001b[43m(\u001b[49m\u001b[43mgate\u001b[49m\u001b[43m,\u001b[49m\u001b[43m \u001b[49m\u001b[43m[\u001b[49m\u001b[43mqubit0\u001b[49m\u001b[43m,\u001b[49m\u001b[43m \u001b[49m\u001b[43mqubit1\u001b[49m\u001b[43m]\u001b[49m\u001b[43m)\u001b[49m\n\u001b[1;32m    560\u001b[0m \u001b[38;5;66;03m# Check if reset\u001b[39;00m\n\u001b[1;32m    561\u001b[0m \u001b[38;5;28;01melif\u001b[39;00m operation\u001b[38;5;241m.\u001b[39mname \u001b[38;5;241m==\u001b[39m \u001b[38;5;124m\"\u001b[39m\u001b[38;5;124mreset\u001b[39m\u001b[38;5;124m\"\u001b[39m:\n",
      "File \u001b[0;32m/opt/.qbraid/environments/qbraid_000000/pyenv/lib/python3.9/site-packages/qiskit/providers/basicaer/qasm_simulator.py:159\u001b[0m, in \u001b[0;36mQasmSimulatorPy._add_unitary\u001b[0;34m(self, gate, qubits)\u001b[0m\n\u001b[1;32m    157\u001b[0m gate_tensor \u001b[38;5;241m=\u001b[39m np\u001b[38;5;241m.\u001b[39mreshape(np\u001b[38;5;241m.\u001b[39marray(gate, dtype\u001b[38;5;241m=\u001b[39m\u001b[38;5;28mcomplex\u001b[39m), num_qubits \u001b[38;5;241m*\u001b[39m [\u001b[38;5;241m2\u001b[39m, \u001b[38;5;241m2\u001b[39m])\n\u001b[1;32m    158\u001b[0m \u001b[38;5;66;03m# Apply matrix multiplication\u001b[39;00m\n\u001b[0;32m--> 159\u001b[0m \u001b[38;5;28mself\u001b[39m\u001b[38;5;241m.\u001b[39m_statevector \u001b[38;5;241m=\u001b[39m \u001b[43mnp\u001b[49m\u001b[38;5;241;43m.\u001b[39;49m\u001b[43meinsum\u001b[49m\u001b[43m(\u001b[49m\n\u001b[1;32m    160\u001b[0m \u001b[43m    \u001b[49m\u001b[43mindexes\u001b[49m\u001b[43m,\u001b[49m\u001b[43m \u001b[49m\u001b[43mgate_tensor\u001b[49m\u001b[43m,\u001b[49m\u001b[43m \u001b[49m\u001b[38;5;28;43mself\u001b[39;49m\u001b[38;5;241;43m.\u001b[39;49m\u001b[43m_statevector\u001b[49m\u001b[43m,\u001b[49m\u001b[43m \u001b[49m\u001b[43mdtype\u001b[49m\u001b[38;5;241;43m=\u001b[39;49m\u001b[38;5;28;43mcomplex\u001b[39;49m\u001b[43m,\u001b[49m\u001b[43m \u001b[49m\u001b[43mcasting\u001b[49m\u001b[38;5;241;43m=\u001b[39;49m\u001b[38;5;124;43m\"\u001b[39;49m\u001b[38;5;124;43mno\u001b[39;49m\u001b[38;5;124;43m\"\u001b[39;49m\n\u001b[1;32m    161\u001b[0m \u001b[43m\u001b[49m\u001b[43m)\u001b[49m\n",
      "File \u001b[0;32m<__array_function__ internals>:5\u001b[0m, in \u001b[0;36meinsum\u001b[0;34m(*args, **kwargs)\u001b[0m\n",
      "File \u001b[0;32m/opt/.qbraid/environments/qbraid_000000/pyenv/lib/python3.9/site-packages/numpy/core/einsumfunc.py:1359\u001b[0m, in \u001b[0;36meinsum\u001b[0;34m(out, optimize, *operands, **kwargs)\u001b[0m\n\u001b[1;32m   1357\u001b[0m     \u001b[38;5;28;01mif\u001b[39;00m specified_out:\n\u001b[1;32m   1358\u001b[0m         kwargs[\u001b[38;5;124m'\u001b[39m\u001b[38;5;124mout\u001b[39m\u001b[38;5;124m'\u001b[39m] \u001b[38;5;241m=\u001b[39m out\n\u001b[0;32m-> 1359\u001b[0m     \u001b[38;5;28;01mreturn\u001b[39;00m \u001b[43mc_einsum\u001b[49m\u001b[43m(\u001b[49m\u001b[38;5;241;43m*\u001b[39;49m\u001b[43moperands\u001b[49m\u001b[43m,\u001b[49m\u001b[43m \u001b[49m\u001b[38;5;241;43m*\u001b[39;49m\u001b[38;5;241;43m*\u001b[39;49m\u001b[43mkwargs\u001b[49m\u001b[43m)\u001b[49m\n\u001b[1;32m   1361\u001b[0m \u001b[38;5;66;03m# Check the kwargs to avoid a more cryptic error later, without having to\u001b[39;00m\n\u001b[1;32m   1362\u001b[0m \u001b[38;5;66;03m# repeat default values here\u001b[39;00m\n\u001b[1;32m   1363\u001b[0m valid_einsum_kwargs \u001b[38;5;241m=\u001b[39m [\u001b[38;5;124m'\u001b[39m\u001b[38;5;124mdtype\u001b[39m\u001b[38;5;124m'\u001b[39m, \u001b[38;5;124m'\u001b[39m\u001b[38;5;124morder\u001b[39m\u001b[38;5;124m'\u001b[39m, \u001b[38;5;124m'\u001b[39m\u001b[38;5;124mcasting\u001b[39m\u001b[38;5;124m'\u001b[39m]\n",
      "\u001b[0;31mKeyboardInterrupt\u001b[0m: "
     ]
    }
   ],
   "source": [
    "class OptimizerLog:\n",
    "    \"\"\"Log to store optimizer's intermediate results\"\"\"\n",
    "    def __init__(self):\n",
    "        self.evaluations = []\n",
    "        self.parameters = []\n",
    "        self.costs = []\n",
    "    def update(self, evaluation, parameter, cost, _stepsize, _accept):\n",
    "        \"\"\"Save intermediate results. Optimizer passes five values\n",
    "        but we ignore the last two.\"\"\"\n",
    "        self.evaluations.append(evaluation)\n",
    "        self.parameters.append(parameter)\n",
    "        self.costs.append(cost)\n",
    "        print(evaluation)\n",
    "\n",
    "# Set up the optimization\n",
    "from qiskit.algorithms.optimizers import SPSA\n",
    "log = OptimizerLog()\n",
    "optimizer = SPSA(maxiter=100, callback=log.update)\n",
    "\n",
    "initial_point = np.random.random(PQC.num_parameters)\n",
    "#initial_point = np.array([3.28559355, 5.48514978, 5.13099949,\n",
    "                        #  0.88372228, 4.08885928, 2.45568528,\n",
    "                         # 4.92364593, 5.59032015, 3.66837805,\n",
    "                          #4.84632313, 3.60713748, 2.43546])\n",
    "\n",
    "def objective_function(variational):\n",
    "    \"\"\"Cost function of circuit parameters on training data.\n",
    "    The optimizer will attempt to minimize this.\"\"\"\n",
    "    return cost_function(TRAIN_DATA, TRAIN_LABELS, variational)\n",
    "\n",
    "# Run the optimization\n",
    "result = optimizer.minimize(objective_function, initial_point)\n",
    "\n",
    "opt_var = result.x\n",
    "opt_value = result.fun\n",
    "\n",
    "import matplotlib.pyplot as plt\n",
    "fig = plt.figure()\n",
    "plt.plot(log.evaluations, log.costs)\n",
    "plt.xlabel('Steps')\n",
    "plt.ylabel('Cost')\n",
    "plt.show()"
   ]
  },
  {
   "cell_type": "code",
   "execution_count": 26,
   "id": "f003f48b-8922-404f-be15-2974157f3837",
   "metadata": {},
   "outputs": [],
   "source": [
    "def _encoding(images):\n",
    "    encoded_images = []\n",
    "    for image in images:\n",
    "        qc = QuantumCircuit(16,16)\n",
    "        # Normalise data in image (might have to save normalisation to inverse later)\n",
    "        \n",
    "        scaler = MinMaxScaler()\n",
    "        scaler.fit(image.reshape(-1,1))\n",
    "        normalised = scaler.transform(image.reshape(-1,1))\n",
    "        \n",
    "        for i in range(len(normalised)):\n",
    "            qc.ry(np.pi*float(normalised[i]), i)\n",
    "            \n",
    "        qc.measure(np.arange(0,16,1),np.arange(0,16,1))\n",
    "        encoded_images.append(qc)\n",
    "    return encoded_images"
   ]
  },
  {
   "cell_type": "code",
   "execution_count": 27,
   "id": "bbc0471e-a145-4a38-a2b6-f9033558ff7a",
   "metadata": {},
   "outputs": [],
   "source": [
    "encoded_images = _encoding(reduced_images)"
   ]
  },
  {
   "cell_type": "code",
   "execution_count": 28,
   "id": "eb2e4339-9188-4e15-bb48-d90da26b6f97",
   "metadata": {},
   "outputs": [
    {
     "data": {
      "text/html": [
       "<pre style=\"word-wrap: normal;white-space: pre;background: #fff0;line-height: 1.1;font-family: &quot;Courier New&quot;,Courier,monospace\">      ┌────────────┐┌─┐                                             \n",
       " q_0: ┤ Ry(1.5674) ├┤M├─────────────────────────────────────────────\n",
       "      ├────────────┤└╥┘┌─┐                                          \n",
       " q_1: ┤ Ry(1.3831) ├─╫─┤M├──────────────────────────────────────────\n",
       "      ├────────────┤ ║ └╥┘┌─┐                                       \n",
       " q_2: ┤ Ry(2.3257) ├─╫──╫─┤M├───────────────────────────────────────\n",
       "      ├────────────┤ ║  ║ └╥┘┌─┐                                    \n",
       " q_3: ┤ Ry(1.6111) ├─╫──╫──╫─┤M├────────────────────────────────────\n",
       "      ├────────────┤ ║  ║  ║ └╥┘┌─┐                                 \n",
       " q_4: ┤ Ry(1.2925) ├─╫──╫──╫──╫─┤M├─────────────────────────────────\n",
       "      ├────────────┤ ║  ║  ║  ║ └╥┘┌─┐                              \n",
       " q_5: ┤ Ry(2.2584) ├─╫──╫──╫──╫──╫─┤M├──────────────────────────────\n",
       "      ├────────────┤ ║  ║  ║  ║  ║ └╥┘┌─┐                           \n",
       " q_6: ┤ Ry(1.3006) ├─╫──╫──╫──╫──╫──╫─┤M├───────────────────────────\n",
       "      ├────────────┤ ║  ║  ║  ║  ║  ║ └╥┘┌─┐                        \n",
       " q_7: ┤ Ry(2.8712) ├─╫──╫──╫──╫──╫──╫──╫─┤M├────────────────────────\n",
       "      └─┬───────┬──┘ ║  ║  ║  ║  ║  ║  ║ └╥┘┌─┐                     \n",
       " q_8: ──┤ Ry(π) ├────╫──╫──╫──╫──╫──╫──╫──╫─┤M├─────────────────────\n",
       "      ┌─┴───────┴──┐ ║  ║  ║  ║  ║  ║  ║  ║ └╥┘┌─┐                  \n",
       " q_9: ┤ Ry(1.6074) ├─╫──╫──╫──╫──╫──╫──╫──╫──╫─┤M├──────────────────\n",
       "      ├────────────┤ ║  ║  ║  ║  ║  ║  ║  ║  ║ └╥┘┌─┐               \n",
       "q_10: ┤ Ry(1.1827) ├─╫──╫──╫──╫──╫──╫──╫──╫──╫──╫─┤M├───────────────\n",
       "      ├────────────┤ ║  ║  ║  ║  ║  ║  ║  ║  ║  ║ └╥┘┌─┐            \n",
       "q_11: ┤ Ry(2.2161) ├─╫──╫──╫──╫──╫──╫──╫──╫──╫──╫──╫─┤M├────────────\n",
       "      └─┬───────┬──┘ ║  ║  ║  ║  ║  ║  ║  ║  ║  ║  ║ └╥┘┌─┐         \n",
       "q_12: ──┤ Ry(0) ├────╫──╫──╫──╫──╫──╫──╫──╫──╫──╫──╫──╫─┤M├─────────\n",
       "      ┌─┴───────┴──┐ ║  ║  ║  ║  ║  ║  ║  ║  ║  ║  ║  ║ └╥┘┌─┐      \n",
       "q_13: ┤ Ry(2.5063) ├─╫──╫──╫──╫──╫──╫──╫──╫──╫──╫──╫──╫──╫─┤M├──────\n",
       "      ├────────────┤ ║  ║  ║  ║  ║  ║  ║  ║  ║  ║  ║  ║  ║ └╥┘┌─┐   \n",
       "q_14: ┤ Ry(2.3753) ├─╫──╫──╫──╫──╫──╫──╫──╫──╫──╫──╫──╫──╫──╫─┤M├───\n",
       "      ├────────────┤ ║  ║  ║  ║  ║  ║  ║  ║  ║  ║  ║  ║  ║  ║ └╥┘┌─┐\n",
       "q_15: ┤ Ry(2.0544) ├─╫──╫──╫──╫──╫──╫──╫──╫──╫──╫──╫──╫──╫──╫──╫─┤M├\n",
       "      └────────────┘ ║  ║  ║  ║  ║  ║  ║  ║  ║  ║  ║  ║  ║  ║  ║ └╥┘\n",
       "c: 16/═══════════════╩══╩══╩══╩══╩══╩══╩══╩══╩══╩══╩══╩══╩══╩══╩══╩═\n",
       "                     0  1  2  3  4  5  6  7  8  9  10 11 12 13 14 15</pre>"
      ],
      "text/plain": [
       "      ┌────────────┐┌─┐                                             \n",
       " q_0: ┤ Ry(1.5674) ├┤M├─────────────────────────────────────────────\n",
       "      ├────────────┤└╥┘┌─┐                                          \n",
       " q_1: ┤ Ry(1.3831) ├─╫─┤M├──────────────────────────────────────────\n",
       "      ├────────────┤ ║ └╥┘┌─┐                                       \n",
       " q_2: ┤ Ry(2.3257) ├─╫──╫─┤M├───────────────────────────────────────\n",
       "      ├────────────┤ ║  ║ └╥┘┌─┐                                    \n",
       " q_3: ┤ Ry(1.6111) ├─╫──╫──╫─┤M├────────────────────────────────────\n",
       "      ├────────────┤ ║  ║  ║ └╥┘┌─┐                                 \n",
       " q_4: ┤ Ry(1.2925) ├─╫──╫──╫──╫─┤M├─────────────────────────────────\n",
       "      ├────────────┤ ║  ║  ║  ║ └╥┘┌─┐                              \n",
       " q_5: ┤ Ry(2.2584) ├─╫──╫──╫──╫──╫─┤M├──────────────────────────────\n",
       "      ├────────────┤ ║  ║  ║  ║  ║ └╥┘┌─┐                           \n",
       " q_6: ┤ Ry(1.3006) ├─╫──╫──╫──╫──╫──╫─┤M├───────────────────────────\n",
       "      ├────────────┤ ║  ║  ║  ║  ║  ║ └╥┘┌─┐                        \n",
       " q_7: ┤ Ry(2.8712) ├─╫──╫──╫──╫──╫──╫──╫─┤M├────────────────────────\n",
       "      └─┬───────┬──┘ ║  ║  ║  ║  ║  ║  ║ └╥┘┌─┐                     \n",
       " q_8: ──┤ Ry(π) ├────╫──╫──╫──╫──╫──╫──╫──╫─┤M├─────────────────────\n",
       "      ┌─┴───────┴──┐ ║  ║  ║  ║  ║  ║  ║  ║ └╥┘┌─┐                  \n",
       " q_9: ┤ Ry(1.6074) ├─╫──╫──╫──╫──╫──╫──╫──╫──╫─┤M├──────────────────\n",
       "      ├────────────┤ ║  ║  ║  ║  ║  ║  ║  ║  ║ └╥┘┌─┐               \n",
       "q_10: ┤ Ry(1.1827) ├─╫──╫──╫──╫──╫──╫──╫──╫──╫──╫─┤M├───────────────\n",
       "      ├────────────┤ ║  ║  ║  ║  ║  ║  ║  ║  ║  ║ └╥┘┌─┐            \n",
       "q_11: ┤ Ry(2.2161) ├─╫──╫──╫──╫──╫──╫──╫──╫──╫──╫──╫─┤M├────────────\n",
       "      └─┬───────┬──┘ ║  ║  ║  ║  ║  ║  ║  ║  ║  ║  ║ └╥┘┌─┐         \n",
       "q_12: ──┤ Ry(0) ├────╫──╫──╫──╫──╫──╫──╫──╫──╫──╫──╫──╫─┤M├─────────\n",
       "      ┌─┴───────┴──┐ ║  ║  ║  ║  ║  ║  ║  ║  ║  ║  ║  ║ └╥┘┌─┐      \n",
       "q_13: ┤ Ry(2.5063) ├─╫──╫──╫──╫──╫──╫──╫──╫──╫──╫──╫──╫──╫─┤M├──────\n",
       "      ├────────────┤ ║  ║  ║  ║  ║  ║  ║  ║  ║  ║  ║  ║  ║ └╥┘┌─┐   \n",
       "q_14: ┤ Ry(2.3753) ├─╫──╫──╫──╫──╫──╫──╫──╫──╫──╫──╫──╫──╫──╫─┤M├───\n",
       "      ├────────────┤ ║  ║  ║  ║  ║  ║  ║  ║  ║  ║  ║  ║  ║  ║ └╥┘┌─┐\n",
       "q_15: ┤ Ry(2.0544) ├─╫──╫──╫──╫──╫──╫──╫──╫──╫──╫──╫──╫──╫──╫──╫─┤M├\n",
       "      └────────────┘ ║  ║  ║  ║  ║  ║  ║  ║  ║  ║  ║  ║  ║  ║  ║ └╥┘\n",
       "c: 16/═══════════════╩══╩══╩══╩══╩══╩══╩══╩══╩══╩══╩══╩══╩══╩══╩══╩═\n",
       "                     0  1  2  3  4  5  6  7  8  9  10 11 12 13 14 15"
      ]
     },
     "execution_count": 28,
     "metadata": {},
     "output_type": "execute_result"
    }
   ],
   "source": [
    "encoded_images[10].draw()"
   ]
  },
  {
   "cell_type": "markdown",
   "id": "614dbace-e973-4585-aa55-f8ca6d972239",
   "metadata": {},
   "source": [
    "<h3> simulating and plotting histogram </h3>"
   ]
  },
  {
   "cell_type": "code",
   "execution_count": 303,
   "id": "a5b46c81-eb7c-4fda-99de-f503a4226ed0",
   "metadata": {},
   "outputs": [],
   "source": [
    "from qiskit.visualization import plot_histogram\n",
    "from qiskit import Aer, transpile"
   ]
  },
  {
   "cell_type": "code",
   "execution_count": 304,
   "id": "cb78cc93-73f6-482f-adb0-26ccbf661349",
   "metadata": {},
   "outputs": [
    {
     "data": {
      "text/plain": [
       "2000"
      ]
     },
     "execution_count": 304,
     "metadata": {},
     "output_type": "execute_result"
    }
   ],
   "source": [
    "len(encoded_images)"
   ]
  },
  {
   "cell_type": "code",
   "execution_count": 363,
   "id": "ccb9b3b8-baf8-4393-be4f-d709b8c68585",
   "metadata": {},
   "outputs": [],
   "source": [
    "#tmp_img.measure_all()\n",
    "simulator = Aer.get_backend('aer_simulator')\n",
    "#tmp_img = transpile(tmp_img, simulator)\n",
    "\n",
    "shot_num = 10000\n",
    "\n",
    "#index each qubit in the binary number\n",
    "num = 16\n",
    "decoded = []\n",
    "for i in range(len(encoded_images)):\n",
    "    amplist = np.zeros(16)\n",
    "    tmp_img = encoded_images[i]\n",
    "    result = simulator.run(tmp_img, shots=shot_num).result()\n",
    "    counts = result.get_counts(tmp_img)\n",
    "    keys = list(counts.keys())\n",
    "    for k in range(len(keys) - 1):\n",
    "            binlist = [int(d) for d in str(keys[k])]\n",
    "            amplist = amplist + [x * counts[keys[k]]/shot_num for x in binlist]\n",
    "    \n",
    "    decoded.append(amplist)\n",
    "#plot_histogram(counts, title='Bell-State counts')"
   ]
  },
  {
   "cell_type": "code",
   "execution_count": 364,
   "id": "4e225b37-a71a-469e-9331-4409ce7398a5",
   "metadata": {},
   "outputs": [
    {
     "data": {
      "text/plain": [
       "array([0.7452, 0.8537, 0.9024, 0.    , 0.8002, 0.3101, 0.5191, 0.9999,\n",
       "       0.983 , 0.3652, 0.815 , 0.3643, 0.5307, 0.8461, 0.4139, 0.4913])"
      ]
     },
     "execution_count": 364,
     "metadata": {},
     "output_type": "execute_result"
    }
   ],
   "source": [
    "decoded[10]"
   ]
  },
  {
   "cell_type": "code",
   "execution_count": 343,
   "id": "13ef136f-5173-44ad-897d-71c5b07e6d18",
   "metadata": {},
   "outputs": [
    {
     "data": {
      "text/plain": [
       "<matplotlib.image.AxesImage at 0x7ff24bef0dc0>"
      ]
     },
     "execution_count": 343,
     "metadata": {},
     "output_type": "execute_result"
    },
    {
     "data": {
      "image/png": "[encoded data removed]",
      "text/plain": [
       "<Figure size 432x288 with 1 Axes>"
      ]
     },
     "metadata": {
      "needs_background": "light"
     },
     "output_type": "display_data"
    }
   ],
   "source": [
    "plt.imshow(reduced_images[700].reshape(4,4))"
   ]
  },
  {
   "cell_type": "code",
   "execution_count": 344,
   "id": "17ac94e5-34fd-4523-8fa0-e6ca1c9c6f21",
   "metadata": {},
   "outputs": [
    {
     "data": {
      "text/plain": [
       "<matplotlib.image.AxesImage at 0x7ff24bfa27c0>"
      ]
     },
     "execution_count": 344,
     "metadata": {},
     "output_type": "execute_result"
    },
    {
     "data": {
      "image/png": "[encoded data removed]",
      "text/plain": [
       "<Figure size 432x288 with 1 Axes>"
      ]
     },
     "metadata": {
      "needs_background": "light"
     },
     "output_type": "display_data"
    }
   ],
   "source": [
    "plt.imshow(np.rot90(amplist.reshape(4,4),2))"
   ]
  },
  {
   "cell_type": "code",
   "execution_count": 370,
   "id": "241d89a0-871c-4d11-9015-370b6286b1d8",
   "metadata": {},
   "outputs": [
    {
     "data": {
      "text/plain": [
       "<matplotlib.image.AxesImage at 0x7ff2486a4e50>"
      ]
     },
     "execution_count": 370,
     "metadata": {},
     "output_type": "execute_result"
    },
    {
     "data": {
      "image/png": "[encoded data removed]",
      "text/plain": [
       "<Figure size 432x288 with 1 Axes>"
      ]
     },
     "metadata": {
      "needs_background": "light"
     },
     "output_type": "display_data"
    }
   ],
   "source": [
    "plt.imshow(pca.inverse_transform(decoded).reshape(2000, 28, 28)[100])"
   ]
  },
  {
   "cell_type": "code",
   "execution_count": 346,
   "id": "c6b43b6b-acbb-49e2-b0db-b035f71f9313",
   "metadata": {},
   "outputs": [
    {
     "data": {
      "text/plain": [
       "[0, 0, 1, 0, 0, 1, 0, 1, 0, 0, 0, 1, 0, 0, 1, 1]"
      ]
     },
     "execution_count": 346,
     "metadata": {},
     "output_type": "execute_result"
    }
   ],
   "source": [
    "keys = list(counts.keys())\n",
    "range(len(keys))\n",
    "[int(d) for d in str(int(keys[4]))]\n",
    "amplist = np.zeros(16-1)\n",
    "[int(d) for d in str(keys[4])]"
   ]
  },
  {
   "cell_type": "markdown",
   "id": "fb6729bf-5ce2-4da2-9e58-9dcea43c8a42",
   "metadata": {},
   "source": [
    "<h3> Decoding </h3>"
   ]
  }
 ],
 "metadata": {
  "kernelspec": {
   "display_name": "Python 3 [Default]",
   "language": "python",
   "name": "python3"
  },
  "language_info": {
   "codemirror_mode": {
    "name": "ipython",
    "version": 3
   },
   "file_extension": ".py",
   "mimetype": "text/x-python",
   "name": "python",
   "nbconvert_exporter": "python",
   "pygments_lexer": "ipython3",
   "version": "3.9.10"
  }
 },
 "nbformat": 4,
 "nbformat_minor": 5
}
