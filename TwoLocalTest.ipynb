{
 "cells": [
  {
   "cell_type": "code",
   "execution_count": 2,
   "id": "cfff405c-70ae-4e8b-b58f-c93f0d46abb9",
   "metadata": {},
   "outputs": [],
   "source": [
    "import numpy as np\n",
    "import matplotlib.pyplot as plt\n",
    "from sklearn.decomposition import PCA\n",
    "from sklearn.preprocessing import MinMaxScaler"
   ]
  },
  {
   "cell_type": "code",
   "execution_count": 3,
   "id": "5c5de60f-31b0-49dc-8238-04f95d38fa7d",
   "metadata": {},
   "outputs": [],
   "source": [
    "images = np.load(\"data/images.npy\")"
   ]
  },
  {
   "cell_type": "code",
   "execution_count": 4,
   "id": "5564a33b-9313-481f-863f-4e1cfeae35b2",
   "metadata": {},
   "outputs": [
    {
     "data": {
      "text/plain": [
       "(2000, 28, 28)"
      ]
     },
     "execution_count": 4,
     "metadata": {},
     "output_type": "execute_result"
    }
   ],
   "source": [
    "images.shape"
   ]
  },
  {
   "cell_type": "code",
   "execution_count": 5,
   "id": "4df20cf8-f1c3-477e-be4b-00e024f55394",
   "metadata": {},
   "outputs": [],
   "source": [
    "# Normalise image data between 0 and 1\n",
    "images = images/np.max(images)"
   ]
  },
  {
   "cell_type": "code",
   "execution_count": 6,
   "id": "816f962e-e7a3-4d39-88de-2a8cd3101955",
   "metadata": {},
   "outputs": [
    {
     "data": {
      "text/plain": [
       "<matplotlib.image.AxesImage at 0x7f7edc53fd30>"
      ]
     },
     "execution_count": 6,
     "metadata": {},
     "output_type": "execute_result"
    },
    {
     "data": {
      "image/png": "[encoded data removed]",
      "text/plain": [
       "<Figure size 432x288 with 1 Axes>"
      ]
     },
     "metadata": {
      "needs_background": "light"
     },
     "output_type": "display_data"
    }
   ],
   "source": [
    "plt.imshow(images[700])"
   ]
  },
  {
   "cell_type": "code",
   "execution_count": 7,
   "id": "d06367b7-58d3-45bf-8bec-6dec8a9ff9d6",
   "metadata": {},
   "outputs": [],
   "source": [
    "# flatten each image to a row vector\n",
    "def flatten_images(images: list) -> list:\n",
    "    flattened_images = []\n",
    "    for image in images:\n",
    "        flattened_images.append(image.flatten())\n",
    "    return np.array(flattened_images)\n",
    "flat_images = flatten_images(images)"
   ]
  },
  {
   "cell_type": "markdown",
   "id": "efde2fa5-4388-4be4-b314-92b97cec2e1f",
   "metadata": {
    "tags": []
   },
   "source": [
    "<h3> Total Variance Captured </h3>"
   ]
  },
  {
   "cell_type": "code",
   "execution_count": 8,
   "id": "d695dbfa-1a3f-4f33-b519-77b59a287c70",
   "metadata": {},
   "outputs": [],
   "source": [
    "total_var_pca = np.zeros(9)\n",
    "for i in range(1, 10):\n",
    "    pca_i = PCA(n_components=i**2)\n",
    "    pca_i.fit(flat_images)\n",
    "    total_var_pca[i-1] = pca_i.explained_variance_ratio_.sum()"
   ]
  },
  {
   "cell_type": "code",
   "execution_count": 9,
   "id": "7e52e438-7e64-44a0-8557-b88078689822",
   "metadata": {},
   "outputs": [
    {
     "data": {
      "image/png": "[encoded data removed]",
      "text/plain": [
       "<Figure size 432x288 with 1 Axes>"
      ]
     },
     "metadata": {
      "needs_background": "light"
     },
     "output_type": "display_data"
    }
   ],
   "source": [
    "plt.ylabel(\"variance captured\")\n",
    "plt.xlabel(\"i square component\")\n",
    "plt.plot(np.arange(1, 10), total_var_pca)\n",
    "plt.show()"
   ]
  },
  {
   "cell_type": "code",
   "execution_count": 10,
   "id": "b1c2d8c7-917e-49e9-84a4-c815b24e808c",
   "metadata": {},
   "outputs": [],
   "source": [
    "# use PCA to achieve image reduction\n",
    "pca = PCA(n_components=16, whiten=True)  # using 16 components, so we have 4x4 for each image\n",
    "reduced_images = pca.fit_transform(flat_images)"
   ]
  },
  {
   "cell_type": "code",
   "execution_count": 11,
   "id": "ba88fe43-32cc-4782-bb9f-9e77503bd28c",
   "metadata": {},
   "outputs": [
    {
     "data": {
      "text/plain": [
       "<matplotlib.image.AxesImage at 0x7f7edc36c4f0>"
      ]
     },
     "execution_count": 11,
     "metadata": {},
     "output_type": "execute_result"
    },
    {
     "data": {
      "image/png": "[encoded data removed]",
      "text/plain": [
       "<Figure size 432x288 with 1 Axes>"
      ]
     },
     "metadata": {
      "needs_background": "light"
     },
     "output_type": "display_data"
    }
   ],
   "source": [
    "plt.imshow(reduced_images[10].reshape(4,4))"
   ]
  },
  {
   "cell_type": "code",
   "execution_count": 12,
   "id": "c4c24a1e-d728-4660-bd7f-fcbb0553570e",
   "metadata": {},
   "outputs": [
    {
     "data": {
      "text/plain": [
       "array([-0.30856706, -0.66432543,  1.15536046, -0.2240795 , -0.83931143,\n",
       "        1.02554116, -0.82355332,  2.20870558,  2.73052617, -0.23198195,\n",
       "       -1.05240384,  0.93954039, -3.3468985 ,  1.51322298,  1.26817184,\n",
       "        0.66258554])"
      ]
     },
     "execution_count": 12,
     "metadata": {},
     "output_type": "execute_result"
    }
   ],
   "source": [
    "reduced_images[10]"
   ]
  },
  {
   "cell_type": "code",
   "execution_count": 13,
   "id": "456c5776-b75e-4806-be0a-3924f6eed17e",
   "metadata": {},
   "outputs": [
    {
     "data": {
      "text/plain": [
       "(2000, 16)"
      ]
     },
     "execution_count": 13,
     "metadata": {},
     "output_type": "execute_result"
    }
   ],
   "source": [
    "reduced_images.shape"
   ]
  },
  {
   "cell_type": "code",
   "execution_count": 14,
   "id": "2fed1ceb-5bcb-43af-8669-9f018333ecc1",
   "metadata": {},
   "outputs": [
    {
     "data": {
      "text/plain": [
       "<matplotlib.image.AxesImage at 0x7f7edc361700>"
      ]
     },
     "execution_count": 14,
     "metadata": {},
     "output_type": "execute_result"
    },
    {
     "data": {
      "image/png": "[encoded data removed]",
      "text/plain": [
       "<Figure size 432x288 with 1 Axes>"
      ]
     },
     "metadata": {
      "needs_background": "light"
     },
     "output_type": "display_data"
    }
   ],
   "source": [
    "# map back from lower space to original space\n",
    "plt.imshow(pca.inverse_transform(reduced_images).reshape(2000, 28, 28)[100])"
   ]
  },
  {
   "cell_type": "code",
   "execution_count": 15,
   "id": "c5d2b0f8-1ad0-43be-bffa-40fd3de5f776",
   "metadata": {},
   "outputs": [
    {
     "data": {
      "text/plain": [
       "<matplotlib.image.AxesImage at 0x7f7edc2d9370>"
      ]
     },
     "execution_count": 15,
     "metadata": {},
     "output_type": "execute_result"
    },
    {
     "data": {
      "image/png": "[encoded data removed]",
      "text/plain": [
       "<Figure size 432x288 with 1 Axes>"
      ]
     },
     "metadata": {
      "needs_background": "light"
     },
     "output_type": "display_data"
    }
   ],
   "source": [
    "plt.imshow(images[100])"
   ]
  },
  {
   "cell_type": "code",
   "execution_count": 16,
   "id": "c2fb8efe-6a7f-4282-8b69-616512afa315",
   "metadata": {},
   "outputs": [],
   "source": [
    "from qiskit.circuit import QuantumCircuit, ParameterVector\n",
    "from qiskit.circuit.library import TwoLocal"
   ]
  },
  {
   "cell_type": "code",
   "execution_count": 17,
   "id": "38f9a7fa-1791-4d5e-bc8b-ceacb30c69a4",
   "metadata": {},
   "outputs": [],
   "source": [
    "TRAIN_DATA = reduced_images\n",
    "TRAIN_LABELS = [int(x) for x in np.load('data/labels.npy')]"
   ]
  },
  {
   "cell_type": "code",
   "execution_count": 18,
   "id": "f8aacd07-21d4-4797-8a26-7259581df6c7",
   "metadata": {},
   "outputs": [],
   "source": [
    "TRAIN_DATA = []\n",
    "for image in reduced_images:\n",
    "    scaler = MinMaxScaler()\n",
    "    scaler.fit(image.reshape(-1,1))\n",
    "    normalised = scaler.transform(image.reshape(-1,1))\n",
    "    normstate = [float(x) for x in normalised]\n",
    "    TRAIN_DATA.append([np.pi*n for n in normstate])"
   ]
  },
  {
   "cell_type": "code",
   "execution_count": 22,
   "id": "65cd6bb4-f4cb-475a-8bb0-3478e251a571",
   "metadata": {},
   "outputs": [],
   "source": [
    "from qiskit.circuit.library import TwoLocal\n",
    "# Parametrize input data\n",
    "qubit_num = 16\n",
    "theta_list = ParameterVector('th', length=qubit_num)\n",
    "\n",
    "FEATURE_MAP = QuantumCircuit(qubit_num)\n",
    "#for i in range(len(normalised)):\n",
    "   # theta_list[i] = np.pi*float(normalised[i])\n",
    "for i in range(len(theta_list)):\n",
    "    FEATURE_MAP.ry(theta_list[i], i)\n",
    "\n",
    "#Set up PQC \n",
    "PQC = TwoLocal(qubit_num, ['rx', 'rz'], 'cz', reps=2)\n",
    "\n",
    "NEW_CIRCUIT = FEATURE_MAP.compose(PQC)\n",
    "NEW_CIRCUIT.measure_all()\n",
    "#NEW_CIRCUIT.decompose().draw()"
   ]
  },
  {
   "cell_type": "code",
   "execution_count": 42,
   "id": "ba8ac83e-bece-4ed8-9ac9-d60b4757e62a",
   "metadata": {},
   "outputs": [],
   "source": [
    "def circuit_instance(data, variational):\n",
    "    \"\"\"Assigns parameter values to `AD_HOC_CIRCUIT`.\n",
    "    Args:\n",
    "        data (list): Data values for the feature map\n",
    "        variational (list): Parameter values for `VAR_FORM`\n",
    "    Returns:\n",
    "        QuantumCircuit: `AD_HOC_CIRCUIT` with parameters assigned\n",
    "    \"\"\"\n",
    "    parameters = {}\n",
    "    for i, p in enumerate(list(theta_list)):\n",
    "        parameters[p] = data[i]\n",
    "    for i, p in enumerate(PQC.ordered_parameters):\n",
    "        parameters[p] = variational[i]\n",
    "    return NEW_CIRCUIT.assign_parameters(parameters)"
   ]
  },
  {
   "cell_type": "code",
   "execution_count": 43,
   "id": "33b87285-b3dd-45c1-b97f-c6d54b90b1a6",
   "metadata": {},
   "outputs": [],
   "source": [
    "def parity(bitstring):\n",
    "    \"\"\"Returns 1 if parity of `bitstring` is even, otherwise 0.\"\"\"\n",
    "    hamming_weight = sum(int(k) for k in list(bitstring))\n",
    "    return (hamming_weight+1) % 2"
   ]
  },
  {
   "cell_type": "code",
   "execution_count": 44,
   "id": "07afdf08-a58d-4760-a0a2-34873ac2ca6a",
   "metadata": {},
   "outputs": [],
   "source": [
    "def label_probability(results):\n",
    "    \"\"\"Converts a dict of bitstrings and their counts,\n",
    "    to parities and their counts\"\"\"\n",
    "    shots = sum(results.values())\n",
    "    probabilities = {0: 0, 1: 0}\n",
    "    for bitstring, counts in results.items():\n",
    "        label = parity(bitstring)\n",
    "        probabilities[label] += counts / shots\n",
    "    return probabilities"
   ]
  },
  {
   "cell_type": "code",
   "execution_count": 45,
   "id": "dd7a4808-1ecf-4c2b-b406-d2cf81c40cc1",
   "metadata": {},
   "outputs": [],
   "source": [
    "from qiskit import BasicAer, execute\n",
    "\n",
    "def classification_probability(data, variational):\n",
    "    \"\"\"Classify data points using given parameters.\n",
    "    Args:\n",
    "        data (list): Set of data points to classify\n",
    "        variational (list): Parameters for `VAR_FORM`\n",
    "    Returns:\n",
    "        list[dict]: Probability of circuit classifying\n",
    "                    each data point as 0 or 1.\n",
    "    \"\"\"\n",
    "    circuits = [circuit_instance(d, variational) for d in data]\n",
    "    backend = BasicAer.get_backend('qasm_simulator')\n",
    "    results = execute(circuits, backend).result()\n",
    "    classification = [\n",
    "        label_probability(results.get_counts(c)) for c in circuits]\n",
    "    return classification"
   ]
  },
  {
   "cell_type": "code",
   "execution_count": 46,
   "id": "7252c9c1-a1bc-4fba-8869-0a7fccb1878e",
   "metadata": {},
   "outputs": [],
   "source": [
    "def cross_entropy_loss(classification, expected):\n",
    "    \"\"\"Calculate accuracy of predictions using cross entropy loss.\n",
    "    Args:\n",
    "        classification (dict): Dict where keys are possible classes,\n",
    "                               and values are the probability our\n",
    "                               circuit chooses that class.\n",
    "        expected (int): Correct classification of the data point.\n",
    "\n",
    "    Returns:\n",
    "        float: Cross entropy loss\n",
    "    \"\"\"\n",
    "    p = classification.get(expected)  # Prob. of correct classification\n",
    "    return -np.log(p + 1e-10)\n",
    "\n",
    "def cost_function(data, labels, variational):\n",
    "    \"\"\"Evaluates performance of our circuit with `variational`\n",
    "    parameters on `data`.\n",
    "\n",
    "    Args:\n",
    "        data (list): List of data points to classify\n",
    "        labels (list): List of correct labels for each data point\n",
    "        variational (list): Parameters to use in circuit\n",
    "\n",
    "    Returns:\n",
    "        float: Cost (metric of performance)\n",
    "    \"\"\"\n",
    "    classifications = classification_probability(data, variational)\n",
    "    cost = 0\n",
    "    for i, classification in enumerate(classifications):\n",
    "        cost += cross_entropy_loss(classification, labels[i])\n",
    "    cost /= len(data)\n",
    "    return cost"
   ]
  },
  {
   "cell_type": "code",
   "execution_count": null,
   "id": "bcec8a9a-f17e-49ca-a575-295c4390cf53",
   "metadata": {},
   "outputs": [],
   "source": [
    "class OptimizerLog:\n",
    "    \"\"\"Log to store optimizer's intermediate results\"\"\"\n",
    "    def __init__(self):\n",
    "        self.evaluations = []\n",
    "        self.parameters = []\n",
    "        self.costs = []\n",
    "    def update(self, evaluation, parameter, cost, _stepsize, _accept):\n",
    "        \"\"\"Save intermediate results. Optimizer passes five values\n",
    "        but we ignore the last two.\"\"\"\n",
    "        self.evaluations.append(evaluation)\n",
    "        self.parameters.append(parameter)\n",
    "        self.costs.append(cost)\n",
    "        print(evaluation)\n",
    "\n",
    "# Set up the optimization\n",
    "from qiskit.algorithms.optimizers import SPSA\n",
    "log = OptimizerLog()\n",
    "optimizer = SPSA(maxiter=100, callback=log.update)\n",
    "\n",
    "initial_point = np.random.random(PQC.num_parameters)\n",
    "#initial_point = np.array([3.28559355, 5.48514978, 5.13099949,\n",
    "                        #  0.88372228, 4.08885928, 2.45568528,\n",
    "                         # 4.92364593, 5.59032015, 3.66837805,\n",
    "                          #4.84632313, 3.60713748, 2.43546])\n",
    "\n",
    "def objective_function(variational):\n",
    "    \"\"\"Cost function of circuit parameters on training data.\n",
    "    The optimizer will attempt to minimize this.\"\"\"\n",
    "    return cost_function(TRAIN_DATA, TRAIN_LABELS, variational)\n",
    "\n",
    "# Run the optimization\n",
    "result = optimizer.minimize(objective_function, initial_point)\n",
    "\n",
    "opt_var = result.x\n",
    "opt_value = result.fun\n",
    "\n",
    "import matplotlib.pyplot as plt\n",
    "fig = plt.figure()\n",
    "plt.plot(log.evaluations, log.costs)\n",
    "plt.xlabel('Steps')\n",
    "plt.ylabel('Cost')\n",
    "plt.show()"
   ]
  },
  {
   "cell_type": "code",
   "execution_count": 26,
   "id": "f003f48b-8922-404f-be15-2974157f3837",
   "metadata": {},
   "outputs": [],
   "source": [
    "def _encoding(images):\n",
    "    encoded_images = []\n",
    "    for image in images:\n",
    "        qc = QuantumCircuit(16,16)\n",
    "        # Normalise data in image (might have to save normalisation to inverse later)\n",
    "        \n",
    "        scaler = MinMaxScaler()\n",
    "        scaler.fit(image.reshape(-1,1))\n",
    "        normalised = scaler.transform(image.reshape(-1,1))\n",
    "        \n",
    "        for i in range(len(normalised)):\n",
    "            qc.ry(np.pi*float(normalised[i]), i)\n",
    "            \n",
    "        qc.measure(np.arange(0,16,1),np.arange(0,16,1))\n",
    "        encoded_images.append(qc)\n",
    "    return encoded_images"
   ]
  },
  {
   "cell_type": "code",
   "execution_count": 27,
   "id": "bbc0471e-a145-4a38-a2b6-f9033558ff7a",
   "metadata": {},
   "outputs": [],
   "source": [
    "encoded_images = _encoding(reduced_images)"
   ]
  },
  {
   "cell_type": "code",
   "execution_count": 28,
   "id": "eb2e4339-9188-4e15-bb48-d90da26b6f97",
   "metadata": {},
   "outputs": [
    {
     "data": {
      "text/html": [
       "<pre style=\"word-wrap: normal;white-space: pre;background: #fff0;line-height: 1.1;font-family: &quot;Courier New&quot;,Courier,monospace\">      ┌────────────┐┌─┐                                             \n",
       " q_0: ┤ Ry(1.5674) ├┤M├─────────────────────────────────────────────\n",
       "      ├────────────┤└╥┘┌─┐                                          \n",
       " q_1: ┤ Ry(1.3831) ├─╫─┤M├──────────────────────────────────────────\n",
       "      ├────────────┤ ║ └╥┘┌─┐                                       \n",
       " q_2: ┤ Ry(2.3257) ├─╫──╫─┤M├───────────────────────────────────────\n",
       "      ├────────────┤ ║  ║ └╥┘┌─┐                                    \n",
       " q_3: ┤ Ry(1.6111) ├─╫──╫──╫─┤M├────────────────────────────────────\n",
       "      ├────────────┤ ║  ║  ║ └╥┘┌─┐                                 \n",
       " q_4: ┤ Ry(1.2925) ├─╫──╫──╫──╫─┤M├─────────────────────────────────\n",
       "      ├────────────┤ ║  ║  ║  ║ └╥┘┌─┐                              \n",
       " q_5: ┤ Ry(2.2584) ├─╫──╫──╫──╫──╫─┤M├──────────────────────────────\n",
       "      ├────────────┤ ║  ║  ║  ║  ║ └╥┘┌─┐                           \n",
       " q_6: ┤ Ry(1.3006) ├─╫──╫──╫──╫──╫──╫─┤M├───────────────────────────\n",
       "      ├────────────┤ ║  ║  ║  ║  ║  ║ └╥┘┌─┐                        \n",
       " q_7: ┤ Ry(2.8712) ├─╫──╫──╫──╫──╫──╫──╫─┤M├────────────────────────\n",
       "      └─┬───────┬──┘ ║  ║  ║  ║  ║  ║  ║ └╥┘┌─┐                     \n",
       " q_8: ──┤ Ry(π) ├────╫──╫──╫──╫──╫──╫──╫──╫─┤M├─────────────────────\n",
       "      ┌─┴───────┴──┐ ║  ║  ║  ║  ║  ║  ║  ║ └╥┘┌─┐                  \n",
       " q_9: ┤ Ry(1.6074) ├─╫──╫──╫──╫──╫──╫──╫──╫──╫─┤M├──────────────────\n",
       "      ├────────────┤ ║  ║  ║  ║  ║  ║  ║  ║  ║ └╥┘┌─┐               \n",
       "q_10: ┤ Ry(1.1827) ├─╫──╫──╫──╫──╫──╫──╫──╫──╫──╫─┤M├───────────────\n",
       "      ├────────────┤ ║  ║  ║  ║  ║  ║  ║  ║  ║  ║ └╥┘┌─┐            \n",
       "q_11: ┤ Ry(2.2161) ├─╫──╫──╫──╫──╫──╫──╫──╫──╫──╫──╫─┤M├────────────\n",
       "      └─┬───────┬──┘ ║  ║  ║  ║  ║  ║  ║  ║  ║  ║  ║ └╥┘┌─┐         \n",
       "q_12: ──┤ Ry(0) ├────╫──╫──╫──╫──╫──╫──╫──╫──╫──╫──╫──╫─┤M├─────────\n",
       "      ┌─┴───────┴──┐ ║  ║  ║  ║  ║  ║  ║  ║  ║  ║  ║  ║ └╥┘┌─┐      \n",
       "q_13: ┤ Ry(2.5063) ├─╫──╫──╫──╫──╫──╫──╫──╫──╫──╫──╫──╫──╫─┤M├──────\n",
       "      ├────────────┤ ║  ║  ║  ║  ║  ║  ║  ║  ║  ║  ║  ║  ║ └╥┘┌─┐   \n",
       "q_14: ┤ Ry(2.3753) ├─╫──╫──╫──╫──╫──╫──╫──╫──╫──╫──╫──╫──╫──╫─┤M├───\n",
       "      ├────────────┤ ║  ║  ║  ║  ║  ║  ║  ║  ║  ║  ║  ║  ║  ║ └╥┘┌─┐\n",
       "q_15: ┤ Ry(2.0544) ├─╫──╫──╫──╫──╫──╫──╫──╫──╫──╫──╫──╫──╫──╫──╫─┤M├\n",
       "      └────────────┘ ║  ║  ║  ║  ║  ║  ║  ║  ║  ║  ║  ║  ║  ║  ║ └╥┘\n",
       "c: 16/═══════════════╩══╩══╩══╩══╩══╩══╩══╩══╩══╩══╩══╩══╩══╩══╩══╩═\n",
       "                     0  1  2  3  4  5  6  7  8  9  10 11 12 13 14 15</pre>"
      ],
      "text/plain": [
       "      ┌────────────┐┌─┐                                             \n",
       " q_0: ┤ Ry(1.5674) ├┤M├─────────────────────────────────────────────\n",
       "      ├────────────┤└╥┘┌─┐                                          \n",
       " q_1: ┤ Ry(1.3831) ├─╫─┤M├──────────────────────────────────────────\n",
       "      ├────────────┤ ║ └╥┘┌─┐                                       \n",
       " q_2: ┤ Ry(2.3257) ├─╫──╫─┤M├───────────────────────────────────────\n",
       "      ├────────────┤ ║  ║ └╥┘┌─┐                                    \n",
       " q_3: ┤ Ry(1.6111) ├─╫──╫──╫─┤M├────────────────────────────────────\n",
       "      ├────────────┤ ║  ║  ║ └╥┘┌─┐                                 \n",
       " q_4: ┤ Ry(1.2925) ├─╫──╫──╫──╫─┤M├─────────────────────────────────\n",
       "      ├────────────┤ ║  ║  ║  ║ └╥┘┌─┐                              \n",
       " q_5: ┤ Ry(2.2584) ├─╫──╫──╫──╫──╫─┤M├──────────────────────────────\n",
       "      ├────────────┤ ║  ║  ║  ║  ║ └╥┘┌─┐                           \n",
       " q_6: ┤ Ry(1.3006) ├─╫──╫──╫──╫──╫──╫─┤M├───────────────────────────\n",
       "      ├────────────┤ ║  ║  ║  ║  ║  ║ └╥┘┌─┐                        \n",
       " q_7: ┤ Ry(2.8712) ├─╫──╫──╫──╫──╫──╫──╫─┤M├────────────────────────\n",
       "      └─┬───────┬──┘ ║  ║  ║  ║  ║  ║  ║ └╥┘┌─┐                     \n",
       " q_8: ──┤ Ry(π) ├────╫──╫──╫──╫──╫──╫──╫──╫─┤M├─────────────────────\n",
       "      ┌─┴───────┴──┐ ║  ║  ║  ║  ║  ║  ║  ║ └╥┘┌─┐                  \n",
       " q_9: ┤ Ry(1.6074) ├─╫──╫──╫──╫──╫──╫──╫──╫──╫─┤M├──────────────────\n",
       "      ├────────────┤ ║  ║  ║  ║  ║  ║  ║  ║  ║ └╥┘┌─┐               \n",
       "q_10: ┤ Ry(1.1827) ├─╫──╫──╫──╫──╫──╫──╫──╫──╫──╫─┤M├───────────────\n",
       "      ├────────────┤ ║  ║  ║  ║  ║  ║  ║  ║  ║  ║ └╥┘┌─┐            \n",
       "q_11: ┤ Ry(2.2161) ├─╫──╫──╫──╫──╫──╫──╫──╫──╫──╫──╫─┤M├────────────\n",
       "      └─┬───────┬──┘ ║  ║  ║  ║  ║  ║  ║  ║  ║  ║  ║ └╥┘┌─┐         \n",
       "q_12: ──┤ Ry(0) ├────╫──╫──╫──╫──╫──╫──╫──╫──╫──╫──╫──╫─┤M├─────────\n",
       "      ┌─┴───────┴──┐ ║  ║  ║  ║  ║  ║  ║  ║  ║  ║  ║  ║ └╥┘┌─┐      \n",
       "q_13: ┤ Ry(2.5063) ├─╫──╫──╫──╫──╫──╫──╫──╫──╫──╫──╫──╫──╫─┤M├──────\n",
       "      ├────────────┤ ║  ║  ║  ║  ║  ║  ║  ║  ║  ║  ║  ║  ║ └╥┘┌─┐   \n",
       "q_14: ┤ Ry(2.3753) ├─╫──╫──╫──╫──╫──╫──╫──╫──╫──╫──╫──╫──╫──╫─┤M├───\n",
       "      ├────────────┤ ║  ║  ║  ║  ║  ║  ║  ║  ║  ║  ║  ║  ║  ║ └╥┘┌─┐\n",
       "q_15: ┤ Ry(2.0544) ├─╫──╫──╫──╫──╫──╫──╫──╫──╫──╫──╫──╫──╫──╫──╫─┤M├\n",
       "      └────────────┘ ║  ║  ║  ║  ║  ║  ║  ║  ║  ║  ║  ║  ║  ║  ║ └╥┘\n",
       "c: 16/═══════════════╩══╩══╩══╩══╩══╩══╩══╩══╩══╩══╩══╩══╩══╩══╩══╩═\n",
       "                     0  1  2  3  4  5  6  7  8  9  10 11 12 13 14 15"
      ]
     },
     "execution_count": 28,
     "metadata": {},
     "output_type": "execute_result"
    }
   ],
   "source": [
    "encoded_images[10].draw()"
   ]
  },
  {
   "cell_type": "markdown",
   "id": "614dbace-e973-4585-aa55-f8ca6d972239",
   "metadata": {},
   "source": [
    "<h3> simulating and plotting histogram </h3>"
   ]
  },
  {
   "cell_type": "code",
   "execution_count": 303,
   "id": "a5b46c81-eb7c-4fda-99de-f503a4226ed0",
   "metadata": {},
   "outputs": [],
   "source": [
    "from qiskit.visualization import plot_histogram\n",
    "from qiskit import Aer, transpile"
   ]
  },
  {
   "cell_type": "code",
   "execution_count": 304,
   "id": "cb78cc93-73f6-482f-adb0-26ccbf661349",
   "metadata": {},
   "outputs": [
    {
     "data": {
      "text/plain": [
       "2000"
      ]
     },
     "execution_count": 304,
     "metadata": {},
     "output_type": "execute_result"
    }
   ],
   "source": [
    "len(encoded_images)"
   ]
  },
  {
   "cell_type": "code",
   "execution_count": 363,
   "id": "ccb9b3b8-baf8-4393-be4f-d709b8c68585",
   "metadata": {},
   "outputs": [],
   "source": [
    "#tmp_img.measure_all()\n",
    "simulator = Aer.get_backend('aer_simulator')\n",
    "#tmp_img = transpile(tmp_img, simulator)\n",
    "\n",
    "shot_num = 10000\n",
    "\n",
    "#index each qubit in the binary number\n",
    "num = 16\n",
    "decoded = []\n",
    "for i in range(len(encoded_images)):\n",
    "    amplist = np.zeros(16)\n",
    "    tmp_img = encoded_images[i]\n",
    "    result = simulator.run(tmp_img, shots=shot_num).result()\n",
    "    counts = result.get_counts(tmp_img)\n",
    "    keys = list(counts.keys())\n",
    "    for k in range(len(keys) - 1):\n",
    "            binlist = [int(d) for d in str(keys[k])]\n",
    "            amplist = amplist + [x * counts[keys[k]]/shot_num for x in binlist]\n",
    "    \n",
    "    decoded.append(amplist)\n",
    "#plot_histogram(counts, title='Bell-State counts')"
   ]
  },
  {
   "cell_type": "code",
   "execution_count": 364,
   "id": "4e225b37-a71a-469e-9331-4409ce7398a5",
   "metadata": {},
   "outputs": [
    {
     "data": {
      "text/plain": [
       "array([0.7452, 0.8537, 0.9024, 0.    , 0.8002, 0.3101, 0.5191, 0.9999,\n",
       "       0.983 , 0.3652, 0.815 , 0.3643, 0.5307, 0.8461, 0.4139, 0.4913])"
      ]
     },
     "execution_count": 364,
     "metadata": {},
     "output_type": "execute_result"
    }
   ],
   "source": [
    "decoded[10]"
   ]
  },
  {
   "cell_type": "code",
   "execution_count": 343,
   "id": "13ef136f-5173-44ad-897d-71c5b07e6d18",
   "metadata": {},
   "outputs": [
    {
     "data": {
      "text/plain": [
       "<matplotlib.image.AxesImage at 0x7ff24bef0dc0>"
      ]
     },
     "execution_count": 343,
     "metadata": {},
     "output_type": "execute_result"
    },
    {
     "data": {
      "image/png": "[encoded data removed]",
      "text/plain": [
       "<Figure size 432x288 with 1 Axes>"
      ]
     },
     "metadata": {
      "needs_background": "light"
     },
     "output_type": "display_data"
    }
   ],
   "source": [
    "plt.imshow(reduced_images[700].reshape(4,4))"
   ]
  },
  {
   "cell_type": "code",
   "execution_count": 344,
   "id": "17ac94e5-34fd-4523-8fa0-e6ca1c9c6f21",
   "metadata": {},
   "outputs": [
    {
     "data": {
      "text/plain": [
       "<matplotlib.image.AxesImage at 0x7ff24bfa27c0>"
      ]
     },
     "execution_count": 344,
     "metadata": {},
     "output_type": "execute_result"
    },
    {
     "data": {
      "image/png": "[encoded data removed]",
      "text/plain": [
       "<Figure size 432x288 with 1 Axes>"
      ]
     },
     "metadata": {
      "needs_background": "light"
     },
     "output_type": "display_data"
    }
   ],
   "source": [
    "plt.imshow(np.rot90(amplist.reshape(4,4),2))"
   ]
  },
  {
   "cell_type": "code",
   "execution_count": 370,
   "id": "241d89a0-871c-4d11-9015-370b6286b1d8",
   "metadata": {},
   "outputs": [
    {
     "data": {
      "text/plain": [
       "<matplotlib.image.AxesImage at 0x7ff2486a4e50>"
      ]
     },
     "execution_count": 370,
     "metadata": {},
     "output_type": "execute_result"
    },
    {
     "data": {
      "image/png": "[encoded data removed]",
      "text/plain": [
       "<Figure size 432x288 with 1 Axes>"
      ]
     },
     "metadata": {
      "needs_background": "light"
     },
     "output_type": "display_data"
    }
   ],
   "source": [
    "plt.imshow(pca.inverse_transform(decoded).reshape(2000, 28, 28)[100])"
   ]
  },
  {
   "cell_type": "code",
   "execution_count": 346,
   "id": "c6b43b6b-acbb-49e2-b0db-b035f71f9313",
   "metadata": {},
   "outputs": [
    {
     "data": {
      "text/plain": [
       "[0, 0, 1, 0, 0, 1, 0, 1, 0, 0, 0, 1, 0, 0, 1, 1]"
      ]
     },
     "execution_count": 346,
     "metadata": {},
     "output_type": "execute_result"
    }
   ],
   "source": [
    "keys = list(counts.keys())\n",
    "range(len(keys))\n",
    "[int(d) for d in str(int(keys[4]))]\n",
    "amplist = np.zeros(16-1)\n",
    "[int(d) for d in str(keys[4])]"
   ]
  },
  {
   "cell_type": "markdown",
   "id": "fb6729bf-5ce2-4da2-9e58-9dcea43c8a42",
   "metadata": {},
   "source": [
    "<h3> Decoding </h3>"
   ]
  }
 ],
 "metadata": {
  "kernelspec": {
   "display_name": "Python 3 [Default]",
   "language": "python",
   "name": "python3"
  },
  "language_info": {
   "codemirror_mode": {
    "name": "ipython",
    "version": 3
   },
   "file_extension": ".py",
   "mimetype": "text/x-python",
   "name": "python",
   "nbconvert_exporter": "python",
   "pygments_lexer": "ipython3",
   "version": "3.9.10"
  }
 },
 "nbformat": 4,
 "nbformat_minor": 5
}
