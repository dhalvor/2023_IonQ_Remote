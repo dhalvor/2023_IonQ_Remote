{
 "cells": [
  {
   "cell_type": "code",
   "execution_count": null,
   "id": "bf2b1a97-0bbc-4cfd-8b39-d1df77492f55",
   "metadata": {
    "tags": []
   },
   "outputs": [],
   "source": [
    "import part1 as p1\n",
    "import part2 as p2\n",
    "import numpy as np\n",
    "\n",
    "images = np.load(\"data/images.npy\")\n",
    "image = images[444]\n",
    "\n",
    "label, full_circuit = p2.run_part2(image)"
   ]
  },
  {
   "cell_type": "code",
   "execution_count": null,
   "id": "693aff2d-7c19-4378-9748-eab67ee7d460",
   "metadata": {},
   "outputs": [],
   "source": []
  },
  {
   "cell_type": "code",
   "execution_count": null,
   "id": "25b9415f-1c35-4c04-9cb5-0f6c28bc092d",
   "metadata": {},
   "outputs": [],
   "source": []
  }
 ],
 "metadata": {
  "kernelspec": {
   "display_name": "Python 3 [IonQ]",
   "language": "python",
   "name": "python3_ionq_6vdluz"
  },
  "language_info": {
   "codemirror_mode": {
    "name": "ipython",
    "version": 3
   },
   "file_extension": ".py",
   "mimetype": "text/x-python",
   "name": "python",
   "nbconvert_exporter": "python",
   "pygments_lexer": "ipython3",
   "version": "3.9.10"
  }
 },
 "nbformat": 4,
 "nbformat_minor": 5
}
